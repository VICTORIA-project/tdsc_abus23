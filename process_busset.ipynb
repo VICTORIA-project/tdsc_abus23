{
 "cells": [
  {
   "attachments": {},
   "cell_type": "markdown",
   "metadata": {},
   "source": [
    "## Process BUSSET"
   ]
  },
  {
   "attachments": {},
   "cell_type": "markdown",
   "metadata": {},
   "source": [
    "Imports"
   ]
  },
  {
   "cell_type": "code",
   "execution_count": 13,
   "metadata": {},
   "outputs": [],
   "source": [
    "import SimpleITK as sitk\n",
    "import pandas as pd\n",
    "from typing import Tuple, Dict, Any\n",
    "from tqdm import tqdm\n",
    "import numpy as np\n",
    "import cv2\n",
    "import os"
   ]
  },
  {
   "attachments": {},
   "cell_type": "markdown",
   "metadata": {},
   "source": [
    "Basic parameters"
   ]
  },
  {
   "cell_type": "code",
   "execution_count": 3,
   "metadata": {},
   "outputs": [],
   "source": [
    "dataset_name = \"busset\" # This dataset has already the slices and masks created.\n",
    "\n",
    "output_folder = f\"datasets/{dataset_name}_png\"\n",
    "slice_min_lesion_px = 25\n",
    "\n",
    "#use_classes = False  #If false, only one class is used (0)\n",
    "val_frac = 0.2 # Validation fraction of the data"
   ]
  },
  {
   "cell_type": "code",
   "execution_count": 4,
   "metadata": {},
   "outputs": [],
   "source": [
    "images_folder = os.path.join(output_folder, \"images\")\n",
    "masks_folder = os.path.join(output_folder, \"masks\")"
   ]
  },
  {
   "cell_type": "code",
   "execution_count": 5,
   "metadata": {},
   "outputs": [
    {
     "name": "stdout",
     "output_type": "stream",
     "text": [
      "No classes available!\n"
     ]
    }
   ],
   "source": [
    "print(\"No classes available!\")\n",
    "use_classes = False\n",
    "classes = []"
   ]
  },
  {
   "attachments": {},
   "cell_type": "markdown",
   "metadata": {},
   "source": [
    "### Create YOLO data\n",
    "\n",
    "Format YOLOv8 segement:\n",
    "- https://docs.ultralytics.com/datasets/segment/\n",
    "- `<class-index> <x1> <y1> <x2> <y2> ... <xn> <yn>`\n",
    "- Others: https://docs.ultralytics.com/yolov5/tutorials/train_custom_data/#13-prepare-dataset-for-yolov5\n",
    "\n",
    "Format YOLOv8 detect:\n",
    "- https://docs.ultralytics.com/datasets/detect/\n",
    "- `<object-class> <x> <y> <width> <height>`"
   ]
  },
  {
   "cell_type": "code",
   "execution_count": 6,
   "metadata": {},
   "outputs": [],
   "source": [
    "segmentation_data_path = os.path.join(output_folder, f\"yolo_seg_data\")\n",
    "detection_data_path = os.path.join(output_folder, f\"yolo_det_data\")"
   ]
  },
  {
   "cell_type": "code",
   "execution_count": 21,
   "metadata": {},
   "outputs": [
    {
     "name": "stdout",
     "output_type": "stream",
     "text": [
      "Classes are not used\n"
     ]
    },
    {
     "name": "stderr",
     "output_type": "stream",
     "text": [
      "  2%|▏         | 24/1154 [00:00<00:08, 127.05it/s]"
     ]
    },
    {
     "name": "stdout",
     "output_type": "stream",
     "text": [
      "More than 1 coutour found for image malignant (19).png\n",
      "Incomplete countour in image malignant (19).png\n"
     ]
    },
    {
     "name": "stderr",
     "output_type": "stream",
     "text": [
      " 46%|████▌     | 533/1154 [00:01<00:01, 608.27it/s]"
     ]
    },
    {
     "name": "stdout",
     "output_type": "stream",
     "text": [
      "More than 1 coutour found for image benign (62).png\n",
      "Incomplete countour in image benign (62).png\n",
      "More than 1 coutour found for image malignant (28).png\n",
      "Incomplete countour in image malignant (28).png\n"
     ]
    },
    {
     "name": "stderr",
     "output_type": "stream",
     "text": [
      " 63%|██████▎   | 729/1154 [00:01<00:00, 639.32it/s]"
     ]
    },
    {
     "name": "stdout",
     "output_type": "stream",
     "text": [
      "More than 1 coutour found for image benign (88).png\n",
      "Incomplete countour in image benign (88).png\n"
     ]
    },
    {
     "name": "stderr",
     "output_type": "stream",
     "text": [
      "100%|██████████| 1154/1154 [00:02<00:00, 526.35it/s]"
     ]
    },
    {
     "name": "stdout",
     "output_type": "stream",
     "text": [
      "More than 1 coutour found for image benign (414).png\n",
      "Incomplete countour in image benign (414).png\n"
     ]
    },
    {
     "name": "stderr",
     "output_type": "stream",
     "text": [
      "\n"
     ]
    }
   ],
   "source": [
    "import shutil\n",
    "\n",
    "# Create folders\n",
    "os.makedirs(segmentation_data_path, exist_ok=True)\n",
    "os.makedirs(detection_data_path, exist_ok=True)\n",
    "        \n",
    "# List of image cases\n",
    "list_cases = os.listdir(images_folder)\n",
    "\n",
    "# Get classes\n",
    "if not use_classes or any(len(item.split('_')) != 3 for item in list_cases):\n",
    "    use_classes = False\n",
    "    print(\"Classes are not used\")\n",
    "else:\n",
    "    classes = sorted(set([ item[:-4].split('_')[-1] for item in list_cases]))\n",
    "    print(classes)\n",
    "    \n",
    "# For each image\n",
    "for image in tqdm(list_cases):\n",
    "    \n",
    "    # Check image name format\n",
    "    # assert len(image[:-4].split(\"_\")) == 3 (For busset there is a different format!)\n",
    "    \n",
    "    # Get class label\n",
    "    if use_classes:\n",
    "        label = image[:-4].split(\"_\")[-1]\n",
    "        label_index = classes.index(label)\n",
    "    else:\n",
    "        label_index = 0\n",
    "    \n",
    "    # Read mask\n",
    "    mask_grey = cv2.imread(os.path.join(masks_folder, image), cv2.IMREAD_GRAYSCALE)\n",
    "    mask = (mask_grey > 0).astype(\"uint8\")\n",
    "    mask_size = mask.shape[1], mask.shape[0]\n",
    "    \n",
    "    # Get contours\n",
    "    contours, _ = cv2.findContours(mask, cv2.RETR_EXTERNAL, cv2.CHAIN_APPROX_SIMPLE)\n",
    "    contours_list = [contour.squeeze().tolist() for contour in contours]\n",
    "    \n",
    "    if len(contours_list) > 1:\n",
    "        print(f\"More than 1 coutour found for image {image}\")\n",
    "\n",
    "    # Copy image files\n",
    "    shutil.copyfile(os.path.join(images_folder, image), os.path.join(detection_data_path, image))\n",
    "    shutil.copyfile(os.path.join(images_folder, image), os.path.join(segmentation_data_path, image))\n",
    "\n",
    "    # Oepn label files\n",
    "    det_fp = open(os.path.join(detection_data_path, f\"{image[:-4]}.txt\"), \"w\")\n",
    "    seg_fp = open(os.path.join(segmentation_data_path, f\"{image[:-4]}.txt\"), \"w\")\n",
    "        \n",
    "    # For each countour\n",
    "    for contour in contours_list:\n",
    "        \n",
    "        if len(contour) < 3:\n",
    "            print(f'Incomplete countour in image {image}')\n",
    "            continue\n",
    "        \n",
    "        # Get lesion countour data\n",
    "        x, y = [point[0] for point in contour], [point[1] for point in contour] #TODO: use numpy\n",
    "        x1, x2, y1, y2 = min(x), max(x), min(y), max(y)\n",
    "        center_x, center_y = (x1+x2)/(2*mask_size[0]), (y1+y2)/(2*mask_size[1])\n",
    "        width, height = (x2-x1)/mask_size[0], (y2-y1)/mask_size[1]\n",
    "        \n",
    "        # Check lesion size\n",
    "        if width < 0.001 or height < 0.001:\n",
    "            print(f\"Small lesion found in image ({image})\")\n",
    "            continue\n",
    "        \n",
    "        # Write labels\n",
    "        det_str = f\"{center_x:0.6f} {center_y:0.6f} {width:0.6f} {height:0.6f}\"\n",
    "        det_fp.write(f\"{label_index} {det_str}\\n\")   \n",
    "        seg_str = \" \".join([f\"{point[0]/mask_size[0]:0.6f} {point[1]/mask_size[1]:0.6f}\" for point in contour])\n",
    "        seg_fp.write(f\"{label_index} {seg_str}\\n\")\n",
    "        \n",
    "    # Close files\n",
    "    det_fp.close()\n",
    "    seg_fp.close()\n"
   ]
  },
  {
   "attachments": {},
   "cell_type": "markdown",
   "metadata": {},
   "source": [
    "### Create YOLO Train/Val split data"
   ]
  },
  {
   "cell_type": "code",
   "execution_count": 22,
   "metadata": {},
   "outputs": [
    {
     "name": "stdout",
     "output_type": "stream",
     "text": [
      "{0: 1154}\n",
      "['benign (389)', '100165', 'benign (424)', 'malignant (13)', 'benign (376)', 'malignant (185)', 'benign (199)', '100117', '100104', '500068', '100204', '100021', '100201', '19', 'benign (226)', 'benign (64)', 'benign (418)', 'malignant (20)', 'malignant (183)', 'benign (388)', '100096', '400061', 'malignant (11)', '123', 'malignant (72)', 'malignant (129)', '400008', 'malignant (140)', '100160', '400022', '137', '100168', '59', 'benign (210)', 'benign (77)', 'benign (172)', 'malignant (171)', '500004', '500034', 'benign (59)', 'malignant (112)', 'benign (390)', 'benign (61)', 'malignant (3)', 'malignant (43)', 'benign (105)', 'benign (398)', 'benign (8)', '500018', 'benign (206)', 'benign (189)', 'malignant (46)', 'benign (262)', '400004', 'malignant (37)', 'benign (337)', 'malignant (83)', '80', '100171', 'benign (397)', '100108', 'benign (400)', '21', '100065', '100170', '500006', '400074', 'benign (178)', '100043', 'malignant (115)', 'malignant (139)', '100109', 'benign (181)', '500002', 'benign (344)', 'benign (112)', '400023', '500012', 'benign (351)', 'malignant (50)', '139', 'benign (415)', '100159', 'benign (328)', '121', '32', 'malignant (38)', 'malignant (63)', '100203', '301', 'malignant (175)', '100189', 'benign (317)', 'benign (5)', 'benign (166)', 'malignant (49)', 'benign (90)', 'benign (132)', 'malignant (103)', '500091', 'benign (368)', 'malignant (44)', '400032', 'benign (162)', '90', 'benign (117)', '100127', '14', 'malignant (155)', 'benign (308)', '500026', '125', 'benign (270)', '400095', 'benign (410)', '100012', 'malignant (191)', '68', '400070', 'benign (349)', '100094', 'benign (259)', 'benign (372)', '10', 'benign (241)', 'benign (408)', 'malignant (106)', 'benign (185)', 'malignant (188)', 'benign (290)', 'malignant (149)', 'malignant (167)', '126', '100147', 'benign (71)', '44', 'benign (175)', '65', 'benign (357)', 'benign (377)', '500024', 'malignant (123)', '8', '69', '33', 'benign (434)', '101', '100103', 'benign (343)', 'benign (280)', 'benign (66)', 'benign (333)', '100136', 'malignant (128)', '64', 'benign (404)', 'benign (169)', 'benign (86)', 'benign (277)', '100186', '100089', '100131', 'benign (16)', 'benign (288)', 'benign (431)', '310', 'benign (11)', 'benign (356)', '100207', '100135', 'benign (260)', '109', '500075', 'benign (202)', 'benign (116)', '100', 'malignant (159)', 'malignant (39)', 'benign (233)', 'malignant (73)', 'malignant (19)', 'malignant (125)', '500020', 'benign (191)', '100047', '295', '400096', '400067', 'benign (133)', '100115', 'benign (326)', 'benign (392)', 'benign (273)', '500093', 'benign (122)', 'malignant (157)', 'benign (367)', 'benign (50)', 'benign (420)', 'malignant (164)', '500083', '400083', '76', '100152', '100179', 'benign (201)', '400082', 'benign (196)', '500050', 'benign (198)', '400080', '100185', 'benign (159)', 'malignant (21)', '500052', 'benign (360)', 'benign (362)', '100197', 'benign (353)', 'malignant (91)', 'benign (336)', 'benign (120)', '500084', '84', 'benign (412)', 'benign (229)', '400018', '500025', 'benign (433)', '100172', '500062', '71', 'benign (235)', '500086', 'benign (385)', 'benign (371)', '500001', '500045', '12', 'benign (256)', 'malignant (144)', 'benign (266)', 'benign (58)', 'benign (411)', 'benign (102)', 'benign (9)', 'benign (304)', 'malignant (76)', '400057', '63', 'malignant (208)', '99', '100146', '100164', '110', 'benign (379)', 'malignant (67)', 'malignant (186)', '100100', '400020', 'benign (180)', '67', '500028', '400005', 'benign (423)', 'benign (179)', '75', 'benign (393)', '6', '500100', '302', 'malignant (89)', 'benign (52)', 'benign (83)', 'benign (32)', 'benign (305)', 'malignant (109)', 'benign (381)', 'benign (15)', 'benign (165)', 'benign (68)', '400091', 'benign (315)', 'benign (12)', 'malignant (130)', '500066', '500077', '100116', '138', 'benign (257)', '500069', 'malignant (105)', '500076', 'malignant (196)', '400053', '500005', 'benign (51)', '25', 'benign (286)', '100088', '400077', '23', 'benign (108)', 'benign (80)', 'benign (109)', 'benign (306)', 'benign (188)', 'benign (23)', '100133', 'benign (150)', 'malignant (126)', '304', '400059', '100148', '100032', 'malignant (192)', '70', '100191', 'malignant (122)', '400099', 'malignant (114)', '500047', '40', 'benign (284)', 'benign (78)', 'malignant (124)', '400012', '400073', '400006', '100067', 'malignant (169)', 'malignant (4)', '400050', 'benign (204)', 'benign (246)', 'benign (192)', '118', '400036', '500060', 'benign (269)', '500072', 'malignant (7)', 'malignant (173)', '500031', '500065', 'malignant (5)', '500085', 'benign (106)', 'benign (139)', '500040', 'benign (296)', '100183', 'malignant (202)', '400003', 'benign (223)', 'benign (2)', '400100', 'benign (84)', '54', '58', 'benign (171)', 'benign (88)', 'malignant (1)', 'benign (324)', '107', '87', '306', '100124', 'benign (421)', 'malignant (143)', '500074', 'malignant (201)', 'benign (218)', '500073', 'benign (422)', 'benign (291)', 'malignant (25)', 'malignant (92)', '500080', '400019', '500036', 'benign (194)', '500082', 'benign (209)', '500016', 'benign (437)', 'malignant (168)', '46', '45', 'benign (322)', '100141', 'benign (81)', 'benign (33)', '100199', 'malignant (113)', 'malignant (87)', '400072', 'malignant (45)', 'benign (359)', '145', '100182', '297', '400013', '38', '100155', 'benign (27)', '400045', 'benign (74)', 'malignant (117)', 'benign (155)', '100123', 'benign (413)', '47', 'malignant (120)', 'malignant (110)', 'benign (228)', '142', 'benign (236)', '100092', 'benign (69)', 'malignant (182)', 'benign (247)', 'benign (436)', '102', 'malignant (136)', '81', 'malignant (121)', 'benign (208)', 'benign (314)', 'malignant (79)', '1', 'malignant (55)', 'benign (346)', '100175', '500038', '500015', 'malignant (98)', 'malignant (170)', 'benign (29)', 'malignant (16)', 'benign (399)', '115', '100156', '400017', 'malignant (184)', '100198', 'benign (111)', 'benign (211)', 'malignant (181)', '400025', 'benign (366)', '146', 'benign (53)', 'benign (219)', '100130', '400060', '500051', '15', '17', '400014', 'benign (21)', 'benign (31)', 'benign (60)', '147', 'benign (255)', 'malignant (163)', 'benign (163)', 'benign (287)', 'malignant (94)', 'benign (100)', '100120', 'benign (217)', 'benign (298)', 'malignant (66)', 'malignant (131)', '400007', '100174', 'malignant (127)', 'malignant (22)', 'benign (72)', '100202', 'benign (313)', 'malignant (100)', '308', 'benign (319)', '500096', '29', 'benign (240)', '300', '122', 'benign (320)', 'benign (267)', 'malignant (150)', '100144', 'benign (42)', '100019', 'benign (18)', 'benign (254)', '100041', 'malignant (116)', 'benign (258)', 'malignant (135)', '100193', '78', '131', '100112', '100208', 'benign (186)', '500055', 'benign (345)', 'benign (309)', 'benign (318)', 'benign (338)', 'benign (190)', 'benign (154)', 'benign (193)', '100173', '100149', 'malignant (93)', 'malignant (23)', 'benign (142)', 'malignant (162)', '500057', '307', 'benign (265)', '400062', 'malignant (82)', '37', 'benign (352)', '100195', 'malignant (12)', '400076', 'malignant (153)', '100087', '500061', 'malignant (18)', 'benign (327)', '100111', '117', 'malignant (71)', 'benign (281)', 'benign (213)', 'malignant (28)', 'benign (358)', 'malignant (34)', '100050', 'malignant (14)', '106', 'benign (329)', '500037', '100150', 'benign (40)', 'benign (299)', '500035', '100206', '100167', '500010', '500054', '93', 'malignant (29)', 'benign (310)', 'benign (63)', 'benign (231)', 'benign (406)', 'benign (130)', '100023', 'benign (70)', 'benign (342)', '3', '100011', 'benign (47)', '42', '77', 'malignant (141)', 'benign (414)', '43', '500009', '100121', 'benign (182)', 'benign (285)', '100099', '400046', '100044', 'malignant (166)', 'benign (207)', 'benign (261)', 'malignant (31)', 'benign (152)', '400092', 'benign (101)', '400081', 'malignant (6)', 'malignant (62)', 'benign (43)', 'benign (167)', 'benign (184)', '11', '400035', '500087', 'malignant (2)', 'benign (409)', 'malignant (36)', '5', 'benign (350)', 'malignant (15)', 'benign (158)', 'benign (92)', 'benign (19)', '400011', 'malignant (33)', 'benign (164)', 'benign (222)', 'malignant (8)', '111', '82', '100036', '296', '400068', 'benign (383)', 'benign (91)', '53', 'benign (44)', '500030', '500022', 'benign (65)', '66', 'benign (45)', 'benign (375)', 'benign (251)', 'benign (407)', 'malignant (203)', 'benign (232)', 'malignant (108)', '400056', 'benign (215)', 'benign (79)', '18', 'benign (56)', '400043', '400052', '400042', 'malignant (174)', 'benign (369)', 'benign (177)', 'benign (417)', '130', '57', 'benign (195)', '100196', '500070', 'benign (212)', 'benign (6)', 'benign (387)', '400084', 'benign (126)', '34', 'malignant (187)', '120', 'malignant (59)', 'malignant (101)', '95', '100095', '400065', 'malignant (146)', 'benign (153)', '127', '24', '74', 'malignant (24)', '500081', '98', '100140', '100125', 'benign (174)', 'benign (141)', '72', 'benign (363)', 'benign (200)', 'malignant (88)', '100128', 'benign (148)', 'malignant (9)', '500098', 'malignant (145)', 'benign (35)', 'benign (293)', 'benign (373)', '100188', '400094', 'benign (97)', 'benign (137)', 'malignant (40)', 'benign (94)', 'benign (103)', 'malignant (47)', '55', 'benign (161)', '500099', 'malignant (10)', '100113', 'benign (129)', '400030', 'benign (330)', 'benign (30)', 'benign (38)', 'benign (370)', 'benign (416)', '105', '500021', '500095', 'benign (274)', '400037', 'benign (76)', '500023', '303', '89', 'benign (427)', 'benign (36)', 'benign (332)', '119', 'malignant (195)', '400015', '50', 'benign (250)', '35', '400055', '31', 'malignant (204)', '100132', '52', 'benign (242)', '500092', 'benign (147)', 'benign (10)', '100093', '500027', '500032', '100184', 'malignant (80)', 'malignant (200)', '500071', 'benign (131)', 'malignant (48)', '400031', 'benign (75)', 'benign (386)', 'malignant (81)', 'benign (176)', '400033', '500013', 'benign (121)', 'malignant (102)', '16', '100129', 'benign (380)', '92', 'benign (99)', 'malignant (35)', '400040', '500007', 'malignant (154)', 'benign (214)', 'malignant (205)', 'benign (13)', 'malignant (107)', 'benign (321)', '100016', 'benign (429)', 'benign (125)', '39', 'benign (263)', 'malignant (207)', 'benign (14)', '400075', '104', '113', '100097', '100102', 'benign (95)', 'benign (272)', '103', 'benign (435)', 'benign (4)', 'benign (307)', 'malignant (95)', '100042', 'malignant (132)', '100022', '100028', '60', '124', '36', 'malignant (60)', 'malignant (118)', 'malignant (134)', '400001', 'benign (391)', 'malignant (147)', 'benign (37)', '100176', 'malignant (156)', '79', 'malignant (197)', 'benign (292)', 'benign (282)', 'benign (401)', '100166', 'benign (311)', 'benign (239)', 'benign (46)', '400089', '134', '400090', '500078', '500063', '100107', 'malignant (17)', '400010', '13', 'benign (364)', 'benign (331)', '400071', '500049', '500043', 'benign (361)', '100192', 'malignant (179)', '48', 'malignant (56)', 'malignant (99)', '100015', '56', '500089', '500029', 'malignant (69)', '100190', 'benign (203)', '400049', 'benign (82)', 'benign (243)', '49', '100205', 'benign (395)', 'benign (118)', '400041', 'benign (253)', 'benign (340)', 'malignant (137)', 'benign (430)', 'benign (73)', '141', 'benign (96)', 'malignant (53)', 'benign (62)', 'benign (394)', '100162', '100138', '500003', 'malignant (111)', '500019', '500033', 'benign (405)', '100119', 'malignant (172)', '20', '298', '100194', 'malignant (41)', 'benign (432)', '61', 'benign (252)', 'malignant (84)', 'malignant (138)', 'benign (297)', '100105', 'benign (341)', '400029', '100158', '112', '100118', 'benign (428)', 'benign (316)', '400064', '400051', 'malignant (104)', 'benign (107)', 'malignant (176)', 'benign (396)', 'benign (227)', 'malignant (180)', 'benign (378)', '400002', 'benign (248)', 'malignant (165)', 'benign (268)', '400058', 'malignant (193)', 'benign (205)', '100101', 'malignant (32)', 'malignant (160)', 'benign (85)', 'benign (187)', '400027', '136', '7', '400047', '9', '400026', 'benign (216)', '500042', 'benign (34)', 'malignant (57)', '94', 'malignant (70)', 'benign (225)', 'benign (264)', '51', '116', '400097', 'malignant (199)', 'malignant (85)', 'benign (220)'] 923\n",
      "['malignant (119)', '500017', '132', '400079', 'benign (224)', 'benign (403)', '143', 'benign (335)', 'benign (20)', '4', 'benign (347)', 'benign (54)', 'benign (275)', 'malignant (198)', 'benign (374)', '100180', '100091', '400044', 'benign (197)', 'malignant (177)', 'benign (312)', 'benign (365)', 'benign (384)', 'benign (41)', '400009', 'benign (49)', 'benign (114)', 'benign (26)', '500056', '500059', 'malignant (68)', 'benign (276)', 'benign (115)', 'benign (323)', 'benign (146)', '500058', '22', '400048', 'benign (160)', '400078', '400088', 'benign (183)', 'benign (245)', 'benign (25)', 'benign (22)', '85', '114', 'benign (135)', '500044', 'benign (110)', 'benign (348)', '100157', 'benign (271)', 'malignant (133)', '100045', 'malignant (161)', '88', '100134', 'benign (234)', '309', '299', 'benign (289)', '73', '500041', '100106', 'malignant (64)', 'benign (283)', 'malignant (75)', '500048', 'benign (426)', 'benign (57)', '83', 'malignant (58)', 'benign (143)', '500008', '100126', '91', '100048', 'malignant (152)', 'benign (3)', 'malignant (189)', '500039', 'benign (237)', 'malignant (151)', 'benign (325)', '400098', 'benign (17)', 'benign (244)', 'malignant (210)', '400066', 'benign (127)', 'malignant (27)', '100169', 'benign (230)', '135', 'malignant (178)', 'malignant (26)', 'malignant (206)', '400021', '400016', 'malignant (52)', 'malignant (148)', 'benign (98)', 'benign (138)', '100181', '100178', 'benign (124)', 'benign (425)', 'benign (419)', '100142', '500011', 'malignant (77)', '96', 'malignant (42)', 'benign (89)', 'benign (67)', '133', '62', '400069', 'malignant (96)', 'benign (134)', 'benign (93)', 'benign (128)', 'benign (301)', '100153', 'malignant (78)', 'benign (278)', '2', 'benign (39)', 'benign (238)', '500014', 'malignant (190)', 'malignant (90)', '100026', 'benign (157)', '100154', '500053', 'benign (294)', 'benign (170)', '100143', '400087', '500094', '41', '27', '100098', '305', 'benign (149)', 'benign (113)', '400093', '100200', '500079', '500097', 'benign (221)', '144', '400085', '100110', 'benign (339)', 'benign (1)', 'benign (48)', 'benign (173)', 'malignant (74)', '500090', 'malignant (54)', 'benign (279)', 'benign (334)', 'benign (28)', '400054', 'malignant (51)', '129', 'malignant (142)', '100151', '400063', 'malignant (61)', '100027', 'malignant (97)', '100145', '108', 'benign (302)', '500064', 'benign (303)', 'benign (300)', 'benign (119)', 'benign (151)', 'benign (156)', '140', '26', 'benign (295)', '30', 'benign (355)', '400034', '400024', 'benign (136)', 'benign (249)', '100122', 'benign (55)', 'malignant (65)', 'malignant (209)', '400028', '100031', '86', 'benign (7)', 'benign (104)', '100034', 'malignant (158)', 'benign (140)', '28', '128', '500088', 'benign (145)', '400039', '400038', '500046', '100139', 'benign (24)', 'benign (123)', '100209', '97', '100187', 'benign (402)', '500067', 'malignant (30)', '100029', 'benign (144)', 'benign (382)', '100114', 'malignant (86)', 'malignant (194)', 'benign (87)', 'benign (168)', '400086', 'benign (354)'] 231\n"
     ]
    }
   ],
   "source": [
    "# Get patients list\n",
    "list_items = [item[:-4] for item in os.listdir(detection_data_path) if item.endswith(\".png\")]\n",
    "patients = list(set([ item.split(\"_\")[0] for item in list_items]))\n",
    "\n",
    "# Get lesion type per patient\n",
    "if use_classes:\n",
    "    patients_type = {}     \n",
    "    for item in list_items:\n",
    "        patient = item.split(\"_\")[0] \n",
    "        label = item.split(\"_\")[-1]\n",
    "        if label not in patients_type:\n",
    "            patients_type[label] = [patient]\n",
    "        elif patient not in patients_type[label]:\n",
    "            patients_type[label].append(patient)\n",
    "else:\n",
    "    patients_type = {0: patients}\n",
    "    \n",
    "print({k: len(v) for k, v in patients_type.items()})\n",
    "    \n",
    "# Distribute patients in Train/Val using val_frac with balanced lesion types\n",
    "train_p = []\n",
    "val_p = []\n",
    "for k in patients_type.keys():\n",
    "    num_train = int(len(patients_type[k])*(1-val_frac))\n",
    "    train_type_p, val_type_p = patients_type[k][:num_train], patients_type[k][num_train:]\n",
    "    train_p += train_type_p\n",
    "    val_p += val_type_p\n",
    "    \n",
    "print(train_p, len(train_p))\n",
    "print(val_p, len(val_p))\n",
    "    \n",
    "# Get distributed patient images for train and val\n",
    "train = [ f\"{item}.png\" for item in list_items if item.split(\"_\")[0] in train_p]\n",
    "val = [ f\"{item}.png\" for item in list_items if item.split(\"_\")[0] in val_p]\n",
    "\n",
    "import random\n",
    "random.seed(0)\n",
    "random.shuffle(train)\n",
    "random.shuffle(val)\n",
    "\n",
    "# Generate train.txt file\n",
    "train_det = os.path.join(output_folder, f\"train_det.txt\" ) \n",
    "with open(train_det, \"w\") as fp:\n",
    "    fp.writelines([os.path.join(detection_data_path, t) + '\\n' for t in train])\n",
    "    \n",
    "train_seg = os.path.join(output_folder, f\"train_seg.txt\" ) \n",
    "with open(train_seg, \"w\") as fp:\n",
    "    fp.writelines([os.path.join(segmentation_data_path, t) + '\\n' for t in train])\n",
    "    \n",
    "# Generate val.txt file\n",
    "val_det = os.path.join(output_folder, f\"val_det.txt\")\n",
    "with open(val_det, \"w\") as fp:\n",
    "    fp.writelines([os.path.join(detection_data_path, v) + '\\n' for v in val])\n",
    "    \n",
    "val_seg = os.path.join(output_folder, f\"val_seg.txt\")\n",
    "with open(val_seg, \"w\") as fp:\n",
    "    fp.writelines([os.path.join(segmentation_data_path, v) + '\\n' for v in val])\n",
    "    "
   ]
  }
 ],
 "metadata": {
  "kernelspec": {
   "display_name": "py310_1",
   "language": "python",
   "name": "python3"
  },
  "language_info": {
   "codemirror_mode": {
    "name": "ipython",
    "version": 3
   },
   "file_extension": ".py",
   "mimetype": "text/x-python",
   "name": "python",
   "nbconvert_exporter": "python",
   "pygments_lexer": "ipython3",
   "version": "3.10.6"
  },
  "orig_nbformat": 4,
  "vscode": {
   "interpreter": {
    "hash": "12f3aea31d254c34d7f2ef2d829cf85510b91fc37a99fa9bf72c9e4d79053620"
   }
  }
 },
 "nbformat": 4,
 "nbformat_minor": 2
}

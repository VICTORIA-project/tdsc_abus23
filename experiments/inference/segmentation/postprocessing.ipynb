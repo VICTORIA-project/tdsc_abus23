{
 "cells": [
  {
   "cell_type": "code",
   "execution_count": 1,
   "metadata": {},
   "outputs": [],
   "source": [
    "#Add repo path to the system path\n",
    "from pathlib import Path\n",
    "import os, sys\n",
    "repo_path= Path.cwd().resolve()\n",
    "while '.gitignore' not in os.listdir(repo_path): # while not in the root of the repo\n",
    "    repo_path = repo_path.parent #go up one level\n",
    "sys.path.insert(0,str(repo_path)) if str(repo_path) not in sys.path else None\n",
    "\n",
    "import os\n",
    "os.environ[\"CUDA_DEVICE_ORDER\"]=\"PCI_BUS_ID\"\n",
    "os.environ[\"CUDA_VISIBLE_DEVICES\"]=\"0\"\n",
    "device = 0\n",
    "\n",
    "from importlib import import_module\n",
    "from sklearn.model_selection import KFold\n",
    "from monai.transforms import (\n",
    "    Compose,\n",
    "    ScaleIntensityd,\n",
    "    EnsureTyped,\n",
    "    EnsureChannelFirstd,\n",
    "    Resized,\n",
    ")\n",
    "import torchvision\n",
    "import numpy as np\n",
    "import pandas as pd\n",
    "import torch\n",
    "from torch.utils.data import DataLoader\n",
    "from matplotlib import pyplot as plt\n",
    "from sklearn.metrics import jaccard_score\n",
    "import SimpleITK as sitk\n",
    "from PIL import Image\n",
    "import cv2 as cv\n",
    "\n",
    "# special imports\n",
    "from datasets_utils.datasets import ABUS_dataset, ABUS_test\n",
    "sys.path.append(str(repo_path / 'SAMed')) if str(repo_path / 'SAMed') not in sys.path else None\n",
    "from SAMed.segment_anything import sam_model_registry"
   ]
  },
  {
   "cell_type": "code",
   "execution_count": 10,
   "metadata": {},
   "outputs": [],
   "source": [
    "from scipy.ndimage import binary_dilation, binary_erosion\n",
    "from scipy.ndimage import label, generate_binary_structure\n"
   ]
  },
  {
   "cell_type": "markdown",
   "metadata": {},
   "source": [
    "# Morph-Operations 3D"
   ]
  },
  {
   "cell_type": "code",
   "execution_count": 6,
   "metadata": {},
   "outputs": [
    {
     "name": "stdout",
     "output_type": "stream",
     "text": [
      "The size of the segmentation mask is (353, 682, 865)\n"
     ]
    }
   ],
   "source": [
    "# Load your 3D segmentation mask (assuming it's a binary mask) with sitk\n",
    "segmentation_mask = sitk.ReadImage(repo_path / 'experiments/inference/segmentation/data/predictions/MASK_110.nii.gz')\n",
    "segmentation_mask = sitk.GetArrayFromImage(segmentation_mask)\n",
    "print(f'The size of the segmentation mask is {segmentation_mask.shape}')"
   ]
  },
  {
   "cell_type": "code",
   "execution_count": 8,
   "metadata": {},
   "outputs": [
    {
     "name": "stdout",
     "output_type": "stream",
     "text": [
      "The shape of the diliated mask is (353, 682, 865)\n"
     ]
    }
   ],
   "source": [
    "structuring_element = np.ones((3, 3, 3), dtype=bool)  # You can adjust the size\n",
    "\n",
    "# Perform dilation\n",
    "dilated_mask = binary_dilation(segmentation_mask, structure=structuring_element)\n",
    "print(f'The shape of the diliated mask is {dilated_mask.shape}')"
   ]
  },
  {
   "cell_type": "code",
   "execution_count": 9,
   "metadata": {},
   "outputs": [],
   "source": [
    "# save as nii.gz\n",
    "saving_path = repo_path /  'experiments/inference/segmentation/data/predictions' / f'MASK_110_diluted.nii.gz'\n",
    "# using sitk\n",
    "sitk.WriteImage(sitk.GetImageFromArray(segmentation_mask), str(saving_path))"
   ]
  },
  {
   "cell_type": "markdown",
   "metadata": {},
   "source": [
    "# Conected components"
   ]
  },
  {
   "cell_type": "code",
   "execution_count": 17,
   "metadata": {},
   "outputs": [
    {
     "name": "stdout",
     "output_type": "stream",
     "text": [
      "The size of the segmentation mask is (353, 682, 865)\n"
     ]
    }
   ],
   "source": [
    "# Load your 3D segmentation mask (assuming it's a binary mask) with sitk\n",
    "segmentation_mask = sitk.ReadImage(repo_path / 'experiments/inference/segmentation/data/predictions/MASK_110.nii.gz')\n",
    "segmentation_mask = sitk.GetArrayFromImage(segmentation_mask)\n",
    "print(f'The size of the segmentation mask is {segmentation_mask.shape}')\n",
    "\n",
    "# Define the structuring element for connected component analysis\n",
    "structuring_element = generate_binary_structure(3, 1)  # 3x3x3 connectivity\n",
    "\n",
    "# Perform connected component labeling\n",
    "labeled_mask, num_features = label(segmentation_mask, structure=structuring_element)\n",
    "\n",
    "# Find the size of each connected component\n",
    "component_sizes = np.bincount(labeled_mask.ravel())\n",
    "\n",
    "# Identify the label of the largest component (excluding background)\n",
    "largest_component_label = np.argmax(component_sizes[1:]) + 1\n",
    "\n",
    "# Create a new mask containing only the largest component\n",
    "largest_component_mask = labeled_mask == largest_component_label\n",
    "# transform boolean to int\n",
    "largest_component_mask = largest_component_mask.astype(np.int8)\n",
    "\n",
    "# save largest component mask\n",
    "largest_component_mask = sitk.GetImageFromArray(largest_component_mask)\n",
    "sitk.WriteImage(largest_component_mask, repo_path / 'experiments/inference/segmentation/data/predictions/MASK_110_largest_component.nii.gz')"
   ]
  }
 ],
 "metadata": {
  "kernelspec": {
   "display_name": "abus_1",
   "language": "python",
   "name": "python3"
  },
  "language_info": {
   "codemirror_mode": {
    "name": "ipython",
    "version": 3
   },
   "file_extension": ".py",
   "mimetype": "text/x-python",
   "name": "python",
   "nbconvert_exporter": "python",
   "pygments_lexer": "ipython3",
   "version": "3.9.16"
  },
  "orig_nbformat": 4
 },
 "nbformat": 4,
 "nbformat_minor": 2
}

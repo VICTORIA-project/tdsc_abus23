{
 "cells": [
  {
   "cell_type": "code",
   "execution_count": 2,
   "metadata": {},
   "outputs": [],
   "source": [
    "#Add repo path to the system path\n",
    "from pathlib import Path\n",
    "import os, sys\n",
    "repo_path= Path.cwd().resolve()\n",
    "while '.gitignore' not in os.listdir(repo_path): # while not in the root of the repo\n",
    "    repo_path = repo_path.parent #go up one level\n",
    "sys.path.insert(0,str(repo_path)) if str(repo_path) not in sys.path else None\n",
    "\n",
    "import os\n",
    "os.environ[\"CUDA_DEVICE_ORDER\"]=\"PCI_BUS_ID\"\n",
    "os.environ[\"CUDA_VISIBLE_DEVICES\"]=\"1\"\n",
    "device = 0\n",
    "\n",
    "from importlib import import_module\n",
    "from monai.transforms import (\n",
    "    Compose,\n",
    "    ScaleIntensityd,\n",
    "    EnsureTyped,\n",
    "    Resized,\n",
    ")\n",
    "import numpy as np\n",
    "import torch\n",
    "from torch.utils.data import DataLoader\n",
    "from sklearn.metrics import jaccard_score\n",
    "import SimpleITK as sitk\n",
    "from PIL import Image\n",
    "import torchvision\n",
    "import pandas as pd\n",
    "\n",
    "# special imports\n",
    "from datasets_utils.datasets import ABUS_test\n",
    "sys.path.append(str(repo_path / 'SAMed')) if str(repo_path / 'SAMed') not in sys.path else None\n",
    "from SAMed.segment_anything import sam_model_registry"
   ]
  },
  {
   "cell_type": "code",
   "execution_count": 3,
   "metadata": {},
   "outputs": [],
   "source": [
    "import re\n",
    "# Define a custom sorting key function\n",
    "def slice_number(filename):\n",
    "    \"\"\"order images by slice number\n",
    "\n",
    "    Args:\n",
    "        filename (str): file name in string\n",
    "\n",
    "    Returns:\n",
    "        int: match group int\n",
    "    \"\"\"\n",
    "    match = re.search(r'slice_(\\d+)\\.mha', filename)\n",
    "    if match:\n",
    "        return int(match.group(1))\n",
    "    return -1  # Default value if the pattern is not found"
   ]
  },
  {
   "cell_type": "markdown",
   "metadata": {},
   "source": [
    "# Single model inference"
   ]
  },
  {
   "cell_type": "code",
   "execution_count": 4,
   "metadata": {},
   "outputs": [],
   "source": [
    "# HP\n",
    "batch_size = 8\n",
    "num_classes = 1\n",
    "image_size = 512\n",
    "\n",
    "# get SAM model\n",
    "checkpoint_dir = repo_path / 'checkpoints'\n",
    "sam, _ = sam_model_registry['vit_b'](image_size=image_size,\n",
    "                                    num_classes=num_classes,\n",
    "                                    checkpoint=str(checkpoint_dir / 'sam_vit_b_01ec64.pth'),\n",
    "                                    pixel_mean=[0, 0, 0],\n",
    "                                    pixel_std=[1, 1, 1])\n",
    "# load lora model\n",
    "pkg = import_module('sam_lora_image_encoder')\n",
    "model = pkg.LoRA_Sam(sam, 4)\n",
    "\n",
    "optimum_weights = [\n",
    "    'experiments/SAMed_ABUS/results/full-slice-lesion/fold0/weights/epoch_19.pth', #3220\n",
    "]\n",
    "\n",
    "val_transform = Compose(\n",
    "            [\n",
    "                ScaleIntensityd(keys=[\"image\"]),\n",
    "                Resized(keys=[\"image\"], spatial_size=(image_size, image_size),mode=['area']),\n",
    "                EnsureTyped(keys=[\"image\"])\n",
    "            ])"
   ]
  },
  {
   "cell_type": "code",
   "execution_count": 5,
   "metadata": {},
   "outputs": [
    {
     "name": "stdout",
     "output_type": "stream",
     "text": [
      "The patient id is 100\n",
      "The number of slices is 353\n",
      "The shape of the independent model mask is torch.Size([353, 2, 512, 512])\n"
     ]
    }
   ],
   "source": [
    "metadata_path = repo_path / 'data/challange_2023/Val/metadata.csv'\n",
    "metadata = pd.read_csv(metadata_path)\n",
    "\n",
    "\n",
    "# for pat_id in range(100,130,1): # each val id\n",
    "pat_id = 100\n",
    "patient_meta = metadata[metadata['case_id'] == pat_id]\n",
    "original_shape = patient_meta['shape'].apply(lambda x: tuple(map(int, x[1:-1].split(',')))).values[0]\n",
    "\n",
    "# get data\n",
    "root_path = repo_path / 'data/challange_2023/Val/full-slice_512x512_all'\n",
    "path_images = (root_path / \"image_mha\")\n",
    "# get all files in the folder in a list, only mha files\n",
    "image_files = [file for file in os.listdir(path_images) if file.endswith('.mha')] # unordered files\n",
    "# # now, we will check if the path has at least one of the ids in the train_ids list\n",
    "val_files = [file for file in image_files if f'id_{pat_id}_' in file]\n",
    "val_files = sorted(val_files, key=slice_number) # sort them\n",
    "# # create final paths\n",
    "image_files = np.array([path_images / i for i in val_files])\n",
    "db_val = ABUS_test(transform=val_transform,list_dir=image_files)   \n",
    "valloader = DataLoader(db_val, batch_size=batch_size, shuffle=False, num_workers=8, pin_memory=True)\n",
    "print(f'The patient id is {pat_id}')\n",
    "print(f'The number of slices is {len(db_val)}')\n",
    "# store final mask per patient\n",
    "accumulated_mask = torch.zeros((len(db_val),num_classes+1,image_size,image_size))\n",
    "# for model_path in optimum_weights: # for each model learned\n",
    "model_path = optimum_weights[0]\n",
    "# load weighs\n",
    "load_path = repo_path / model_path\n",
    "model.load_lora_parameters(str(load_path))\n",
    "model.eval()\n",
    "model.to(device);\n",
    "\n",
    "model_mask = []\n",
    "for sample_batch in valloader: # get some slides\n",
    "    with torch.no_grad():\n",
    "        # get data\n",
    "        image_batch = sample_batch[\"image\"].to(device)\n",
    "        # forward and losses computing\n",
    "        outputs = model(image_batch, True, image_size)\n",
    "        # stack the masks\n",
    "        model_mask.append(outputs['masks'].detach().cpu())\n",
    "# stack tensors in a single one\n",
    "model_mask = torch.cat(model_mask, dim=0)\n",
    "print(f'The shape of the independent model mask is {model_mask.shape}')\n",
    "accumulated_mask += model_mask\n",
    "\n",
    "# get the mean and argmax\n",
    "accumulated_mask /= len(optimum_weights)\n",
    "# accumulated_mask = torch.argmax(torch.softmax(accumulated_mask, dim=1), dim=1, keepdim=False)\n",
    "# print(f'The shape of the accumulated output is {accumulated_mask.shape}')"
   ]
  },
  {
   "cell_type": "markdown",
   "metadata": {},
   "source": [
    "Lesion probability saving"
   ]
  },
  {
   "cell_type": "code",
   "execution_count": 10,
   "metadata": {},
   "outputs": [
    {
     "name": "stdout",
     "output_type": "stream",
     "text": [
      "The shape of the resized mask is (353, 865, 865)\n",
      "The shape of the final output is (353, 682, 865)\n",
      "The dtype of the final output is float32\n"
     ]
    }
   ],
   "source": [
    "softed_mask = torch.softmax(accumulated_mask, dim=1)[:,1].numpy() # with lesion probability\n",
    "softed_mask = softed_mask.astype(np.float32)\n",
    "\n",
    "# reshape each slice\n",
    "x_expansion = 865\n",
    "y_expansion = 865\n",
    "resized_mask = []\n",
    "for slice_num in range(softed_mask.shape[0]):\n",
    "    im_slice = softed_mask[slice_num,:,:]\n",
    "    im_slice = Image.fromarray(im_slice)\n",
    "    im_slice_comeback = torchvision.transforms.Resize(\n",
    "        (x_expansion, y_expansion),\n",
    "        interpolation= torchvision.transforms.InterpolationMode.NEAREST,\n",
    "        )(im_slice)\n",
    "    resized_mask.append(im_slice_comeback)\n",
    "# stack all slices\n",
    "resized_mask = np.stack(resized_mask, axis=0)\n",
    "print(f'The shape of the resized mask is {resized_mask.shape}')\n",
    "\n",
    "# get original size\n",
    "final_mask = resized_mask[:,:original_shape[1],:original_shape[0]]\n",
    "print(f'The shape of the final output is {final_mask.shape}')\n",
    "print(f'The dtype of the final output is {final_mask.dtype}')\n",
    "\n",
    "saving_dir = repo_path / 'experiments/inference/segmentation/data/predictions' / 'full-size' / f'fold0_probmap'\n",
    "saving_dir.mkdir(parents=True, exist_ok=True)\n",
    "saving_path = saving_dir  / f'MASK_{pat_id}.nii.gz'\n",
    "\n",
    "# save the mask as nii.gz\n",
    "sitk.WriteImage(sitk.GetImageFromArray(final_mask), str(saving_path))"
   ]
  },
  {
   "cell_type": "markdown",
   "metadata": {},
   "source": [
    "Binary mask saving"
   ]
  },
  {
   "cell_type": "code",
   "execution_count": null,
   "metadata": {},
   "outputs": [
    {
     "name": "stdout",
     "output_type": "stream",
     "text": [
      "The shape of the resized mask is (353, 865, 865)\n"
     ]
    }
   ],
   "source": [
    "# change to numpy and int8\n",
    "accumulated_mask = accumulated_mask.cpu().numpy()\n",
    "accumulated_mask = accumulated_mask.astype(np.uint8)\n",
    "\n",
    "# reshape each slice\n",
    "x_expansion = 865\n",
    "y_expansion = 865\n",
    "resized_mask = []\n",
    "for slice_num in range(accumulated_mask.shape[0]):\n",
    "    im_slice = accumulated_mask[slice_num,:,:]\n",
    "    im_slice = Image.fromarray(im_slice)\n",
    "    im_slice_comeback = torchvision.transforms.Resize(\n",
    "        (x_expansion, y_expansion),\n",
    "        interpolation= torchvision.transforms.InterpolationMode.NEAREST,\n",
    "        )(im_slice)\n",
    "    resized_mask.append(im_slice_comeback)\n",
    "# stack all slices\n",
    "resized_mask = np.stack(resized_mask, axis=0)\n",
    "print(f'The shape of the resized mask is {resized_mask.shape}')"
   ]
  },
  {
   "cell_type": "code",
   "execution_count": null,
   "metadata": {},
   "outputs": [
    {
     "name": "stdout",
     "output_type": "stream",
     "text": [
      "The shape of the final output is (353, 682, 865)\n"
     ]
    }
   ],
   "source": [
    "# get original size\n",
    "final_mask = resized_mask[:,:original_shape[1],:original_shape[0]]\n",
    "print(f'The shape of the final output is {final_mask.shape}')\n",
    "\n",
    "saving_dir = repo_path / 'experiments/inference/segmentation/data/predictions' / 'full-size' / f'fold0'\n",
    "saving_dir.mkdir(parents=True, exist_ok=True)\n",
    "saving_path = saving_dir  / f'MASK_{pat_id}.nii.gz'\n",
    "\n",
    "# save the mask as nii.gz\n",
    "sitk.WriteImage(sitk.GetImageFromArray(final_mask), str(saving_path))"
   ]
  }
 ],
 "metadata": {
  "kernelspec": {
   "display_name": "abus_1",
   "language": "python",
   "name": "python3"
  },
  "language_info": {
   "codemirror_mode": {
    "name": "ipython",
    "version": 3
   },
   "file_extension": ".py",
   "mimetype": "text/x-python",
   "name": "python",
   "nbconvert_exporter": "python",
   "pygments_lexer": "ipython3",
   "version": "3.9.16"
  },
  "orig_nbformat": 4
 },
 "nbformat": 4,
 "nbformat_minor": 2
}

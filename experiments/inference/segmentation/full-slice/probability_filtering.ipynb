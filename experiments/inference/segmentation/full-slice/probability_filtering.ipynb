{
 "cells": [
  {
   "cell_type": "code",
   "execution_count": 13,
   "metadata": {},
   "outputs": [],
   "source": [
    "#Add repo path to the system path\n",
    "from pathlib import Path\n",
    "import os, sys\n",
    "repo_path= Path.cwd().resolve()\n",
    "while '.gitignore' not in os.listdir(repo_path): # while not in the root of the repo\n",
    "    repo_path = repo_path.parent #go up one level\n",
    "sys.path.insert(0,str(repo_path)) if str(repo_path) not in sys.path else None\n",
    "\n",
    "import os\n",
    "os.environ[\"CUDA_DEVICE_ORDER\"]=\"PCI_BUS_ID\"\n",
    "os.environ[\"CUDA_VISIBLE_DEVICES\"]=\"1\"\n",
    "device = 0\n",
    "\n",
    "import SimpleITK as sitk\n",
    "import numpy as np"
   ]
  },
  {
   "cell_type": "code",
   "execution_count": 36,
   "metadata": {},
   "outputs": [],
   "source": [
    "from scipy.ndimage import label, generate_binary_structure\n",
    "\n",
    "def lcc(mask:np.array):\n",
    "    \"\"\"generate largest connected component of a mask\n",
    "\n",
    "    Args:\n",
    "        mask (np.array): multi object mask\n",
    "\n",
    "    Returns:\n",
    "        np.array: array containing only the largest connected component\n",
    "    \"\"\"\n",
    "    # Define the structuring element for connected component analysis\n",
    "    structuring_element = generate_binary_structure(3, 1)  # 3x3x3 connectivity\n",
    "\n",
    "    # Perform connected component labeling\n",
    "    labeled_mask, _ = label(mask, structure=structuring_element)\n",
    "\n",
    "    # Find the size of each connected component\n",
    "    component_sizes = np.bincount(labeled_mask.ravel())\n",
    "\n",
    "    # Identify the label of the largest component (excluding background)\n",
    "    largest_component_label = np.argmax(component_sizes[1:]) + 1\n",
    "\n",
    "    # Create a new mask containing only the largest component\n",
    "    largest_component_mask = labeled_mask == largest_component_label\n",
    "    # transform boolean to int\n",
    "    largest_component_mask = largest_component_mask.astype(np.uint8)\n",
    "\n",
    "    return largest_component_mask"
   ]
  },
  {
   "cell_type": "markdown",
   "metadata": {},
   "source": [
    "Get an image from the validation set"
   ]
  },
  {
   "cell_type": "code",
   "execution_count": 9,
   "metadata": {},
   "outputs": [],
   "source": [
    "probs_dir = repo_path / 'experiments/inference/segmentation/data/predictions/full-size/multi-model_probs'\n",
    "# get all files in the directory\n",
    "files = sorted(os.listdir(probs_dir))\n",
    "\n",
    "# for name in files:\n",
    "mask_path = probs_dir / files[0]\n",
    "mask = sitk.ReadImage(str(mask_path))\n",
    "mask = sitk.GetArrayFromImage(mask)"
   ]
  },
  {
   "cell_type": "markdown",
   "metadata": {},
   "source": [
    "Now we define the threshold for the def. of a high probability map"
   ]
  },
  {
   "cell_type": "code",
   "execution_count": 35,
   "metadata": {},
   "outputs": [],
   "source": [
    "top_buffer = 0.02\n",
    "# get max probability value in the mask\n",
    "max_prob = np.max(mask)\n",
    "threshold = max_prob - top_buffer\n",
    "binary_high_mask = mask > threshold"
   ]
  },
  {
   "cell_type": "markdown",
   "metadata": {},
   "source": [
    "Now we compute LCC in the binary high probability mask"
   ]
  },
  {
   "cell_type": "code",
   "execution_count": 54,
   "metadata": {},
   "outputs": [],
   "source": [
    "# make binary mask as uint8\n",
    "binary_lcc = binary_high_mask.astype(np.uint8)\n",
    "binary_lcc = lcc(binary_lcc)"
   ]
  },
  {
   "cell_type": "markdown",
   "metadata": {},
   "source": [
    "Now we compute the connected components of the normal probability map. "
   ]
  },
  {
   "cell_type": "code",
   "execution_count": 47,
   "metadata": {},
   "outputs": [],
   "source": [
    "normal_dir = repo_path / 'experiments/inference/segmentation/data/predictions/full-size/multi-model'\n",
    "# read normal mask\n",
    "normal_mask = sitk.ReadImage(str(normal_dir / files[0]))\n",
    "normal_mask = sitk.GetArrayFromImage(normal_mask)"
   ]
  },
  {
   "cell_type": "code",
   "execution_count": 73,
   "metadata": {},
   "outputs": [],
   "source": [
    "# Define the structuring element and perform connected component labeling\n",
    "structuring_element = generate_binary_structure(3, 1)  # 3x3x3 connectivity\n",
    "labeled_mask, _ = label(normal_mask, structure=structuring_element)"
   ]
  },
  {
   "cell_type": "code",
   "execution_count": 74,
   "metadata": {},
   "outputs": [],
   "source": [
    "# use binary lcc to find the optimal label\n",
    "high_lcc_mask = binary_lcc.astype(bool)*labeled_mask\n",
    "optimal_label = np.max(high_lcc_mask)\n",
    "final_mask = labeled_mask == optimal_label # get the optimal label"
   ]
  },
  {
   "cell_type": "code",
   "execution_count": 75,
   "metadata": {},
   "outputs": [],
   "source": [
    "# turn all non-zero values to 1\n",
    "final_mask = final_mask.astype(bool).astype(np.uint8)\n",
    "# save final mask\n",
    "saving_dir = repo_path / 'experiments/inference/segmentation/data/predictions/full-size' / Path('high-probs_lcc')\n",
    "saving_dir.mkdir(parents=True, exist_ok=True)\n",
    "final_mask = sitk.GetImageFromArray(final_mask)\n",
    "sitk.WriteImage(final_mask, saving_dir / files[0])"
   ]
  }
 ],
 "metadata": {
  "kernelspec": {
   "display_name": "abus_1",
   "language": "python",
   "name": "python3"
  },
  "language_info": {
   "codemirror_mode": {
    "name": "ipython",
    "version": 3
   },
   "file_extension": ".py",
   "mimetype": "text/x-python",
   "name": "python",
   "nbconvert_exporter": "python",
   "pygments_lexer": "ipython3",
   "version": "3.9.16"
  },
  "orig_nbformat": 4
 },
 "nbformat": 4,
 "nbformat_minor": 2
}

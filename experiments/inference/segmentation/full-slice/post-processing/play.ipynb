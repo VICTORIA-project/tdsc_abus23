{
 "cells": [
  {
   "cell_type": "code",
   "execution_count": 22,
   "metadata": {},
   "outputs": [],
   "source": [
    "#Add repo path to the system path\n",
    "from pathlib import Path\n",
    "import os, sys\n",
    "repo_path= Path.cwd().resolve()\n",
    "while '.gitignore' not in os.listdir(repo_path): # while not in the root of the repo\n",
    "    repo_path = repo_path.parent #go up one level\n",
    "sys.path.insert(0,str(repo_path)) if str(repo_path) not in sys.path else None\n",
    "\n",
    "import os\n",
    "os.environ[\"CUDA_DEVICE_ORDER\"]=\"PCI_BUS_ID\"\n",
    "os.environ[\"CUDA_VISIBLE_DEVICES\"]=\"1\"\n",
    "device = 0\n",
    "\n",
    "from tqdm import tqdm\n",
    "import SimpleITK as sitk\n",
    "import numpy as np\n",
    "from scipy.ndimage import label, generate_binary_structure"
   ]
  },
  {
   "cell_type": "code",
   "execution_count": 23,
   "metadata": {},
   "outputs": [],
   "source": [
    "def lcc(mask:np.array):\n",
    "    \"\"\"generate largest connected component of a mask\n",
    "\n",
    "    Args:\n",
    "        mask (np.array): multi object mask\n",
    "\n",
    "    Returns:\n",
    "        np.array: array containing only the largest connected component\n",
    "    \"\"\"\n",
    "    # Define the structuring element for connected component analysis\n",
    "    structuring_element = generate_binary_structure(3, 1)  # 3x3x3 connectivity\n",
    "\n",
    "    # Perform connected component labeling\n",
    "    labeled_mask, _ = label(mask, structure=structuring_element)\n",
    "\n",
    "    # Find the size of each connected component\n",
    "    component_sizes = np.bincount(labeled_mask.ravel())\n",
    "\n",
    "    # Identify the label of the largest component (excluding background)\n",
    "    largest_component_label = np.argmax(component_sizes[1:]) + 1\n",
    "\n",
    "    # Create a new mask containing only the largest component\n",
    "    largest_component_mask = labeled_mask == largest_component_label\n",
    "    # transform boolean to int\n",
    "    largest_component_mask = largest_component_mask.astype(np.uint8)\n",
    "\n",
    "    return largest_component_mask"
   ]
  },
  {
   "cell_type": "code",
   "execution_count": 19,
   "metadata": {},
   "outputs": [],
   "source": [
    "# HP\n",
    "high_threshold = 0.7"
   ]
  },
  {
   "cell_type": "code",
   "execution_count": 20,
   "metadata": {},
   "outputs": [],
   "source": [
    "# load seed\n",
    "seeds_dir = repo_path / 'experiments/inference/segmentation/data/predictions/full-size/high-probs_no-lcc_limed_0.98_top-hat_0.0001'\n",
    "probs_dir = repo_path / 'experiments/inference/segmentation/data/predictions/full-size/multi-model_probs'\n",
    "files = sorted(os.listdir(seeds_dir))"
   ]
  },
  {
   "cell_type": "code",
   "execution_count": 21,
   "metadata": {},
   "outputs": [],
   "source": [
    "# for name in tqdm(files):\n",
    "name = files[0]\n",
    "# load probs\n",
    "seed_path = seeds_dir / name\n",
    "seed = sitk.ReadImage(str(seed_path))\n",
    "seed = sitk.GetArrayFromImage(seed)\n",
    "\n",
    "# get probability map\n",
    "probs_path = probs_dir / name\n",
    "probs = sitk.ReadImage(str(probs_path))\n",
    "probs = sitk.GetArrayFromImage(probs)"
   ]
  },
  {
   "cell_type": "code",
   "execution_count": 31,
   "metadata": {},
   "outputs": [],
   "source": [
    "# use high_threshold on prob map\n",
    "possible_pixels = probs>high_threshold\n",
    "possible_pixels = possible_pixels.astype(np.uint8)\n",
    "\n",
    "# Define the structuring element for connected component analysis\n",
    "structuring_element = generate_binary_structure(3, 1)  # 3x3x3 connectivity\n",
    "\n",
    "# Perform connected component labeling\n",
    "labeled_mask, _ = label(possible_pixels, structure=structuring_element)\n",
    "\n",
    "intersection = labeled_mask*seed\n",
    "ideal_group = np.max(intersection)\n",
    "\n",
    "# use ideal group\n",
    "mask = labeled_mask == ideal_group\n",
    "mask = mask.astype(np.uint8)\n"
   ]
  }
 ],
 "metadata": {
  "kernelspec": {
   "display_name": "abus_1",
   "language": "python",
   "name": "python3"
  },
  "language_info": {
   "codemirror_mode": {
    "name": "ipython",
    "version": 3
   },
   "file_extension": ".py",
   "mimetype": "text/x-python",
   "name": "python",
   "nbconvert_exporter": "python",
   "pygments_lexer": "ipython3",
   "version": "3.9.16"
  },
  "orig_nbformat": 4
 },
 "nbformat": 4,
 "nbformat_minor": 2
}

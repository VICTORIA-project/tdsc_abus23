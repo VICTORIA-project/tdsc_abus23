{
 "cells": [
  {
   "cell_type": "code",
   "execution_count": 1,
   "metadata": {},
   "outputs": [],
   "source": [
    "# running as docker?\n",
    "docker_running = False\n",
    "\n",
    "# define repo path and add it to the path\n",
    "from pathlib import Path\n",
    "import sys, os\n",
    "if not docker_running: # if we are running locally\n",
    "    repo_path= Path.cwd().resolve()\n",
    "    while '.gitignore' not in os.listdir(repo_path): # while not in the root of the repo\n",
    "        repo_path = repo_path.parent #go up one level\n",
    "else: # if running in the container\n",
    "    repo_path = Path('opt/usuari')\n",
    "sys.path.insert(0,str(repo_path)) if str(repo_path) not in sys.path else None"
   ]
  },
  {
   "cell_type": "code",
   "execution_count": 5,
   "metadata": {},
   "outputs": [
    {
     "data": {
      "text/plain": [
       "[PosixPath('/home/ricardo/ABUS2023_documents/tdsc_abus23/data/challange_2023/Val/DATA/DATA_100.nrrd'),\n",
       " PosixPath('/home/ricardo/ABUS2023_documents/tdsc_abus23/data/challange_2023/Val/DATA/DATA_101.nrrd'),\n",
       " PosixPath('/home/ricardo/ABUS2023_documents/tdsc_abus23/data/challange_2023/Val/DATA/DATA_102.nrrd'),\n",
       " PosixPath('/home/ricardo/ABUS2023_documents/tdsc_abus23/data/challange_2023/Val/DATA/DATA_103.nrrd'),\n",
       " PosixPath('/home/ricardo/ABUS2023_documents/tdsc_abus23/data/challange_2023/Val/DATA/DATA_104.nrrd'),\n",
       " PosixPath('/home/ricardo/ABUS2023_documents/tdsc_abus23/data/challange_2023/Val/DATA/DATA_105.nrrd'),\n",
       " PosixPath('/home/ricardo/ABUS2023_documents/tdsc_abus23/data/challange_2023/Val/DATA/DATA_106.nrrd'),\n",
       " PosixPath('/home/ricardo/ABUS2023_documents/tdsc_abus23/data/challange_2023/Val/DATA/DATA_107.nrrd'),\n",
       " PosixPath('/home/ricardo/ABUS2023_documents/tdsc_abus23/data/challange_2023/Val/DATA/DATA_108.nrrd'),\n",
       " PosixPath('/home/ricardo/ABUS2023_documents/tdsc_abus23/data/challange_2023/Val/DATA/DATA_109.nrrd'),\n",
       " PosixPath('/home/ricardo/ABUS2023_documents/tdsc_abus23/data/challange_2023/Val/DATA/DATA_110.nrrd'),\n",
       " PosixPath('/home/ricardo/ABUS2023_documents/tdsc_abus23/data/challange_2023/Val/DATA/DATA_111.nrrd'),\n",
       " PosixPath('/home/ricardo/ABUS2023_documents/tdsc_abus23/data/challange_2023/Val/DATA/DATA_112.nrrd'),\n",
       " PosixPath('/home/ricardo/ABUS2023_documents/tdsc_abus23/data/challange_2023/Val/DATA/DATA_113.nrrd'),\n",
       " PosixPath('/home/ricardo/ABUS2023_documents/tdsc_abus23/data/challange_2023/Val/DATA/DATA_114.nrrd'),\n",
       " PosixPath('/home/ricardo/ABUS2023_documents/tdsc_abus23/data/challange_2023/Val/DATA/DATA_115.nrrd'),\n",
       " PosixPath('/home/ricardo/ABUS2023_documents/tdsc_abus23/data/challange_2023/Val/DATA/DATA_116.nrrd'),\n",
       " PosixPath('/home/ricardo/ABUS2023_documents/tdsc_abus23/data/challange_2023/Val/DATA/DATA_117.nrrd'),\n",
       " PosixPath('/home/ricardo/ABUS2023_documents/tdsc_abus23/data/challange_2023/Val/DATA/DATA_118.nrrd'),\n",
       " PosixPath('/home/ricardo/ABUS2023_documents/tdsc_abus23/data/challange_2023/Val/DATA/DATA_119.nrrd'),\n",
       " PosixPath('/home/ricardo/ABUS2023_documents/tdsc_abus23/data/challange_2023/Val/DATA/DATA_120.nrrd'),\n",
       " PosixPath('/home/ricardo/ABUS2023_documents/tdsc_abus23/data/challange_2023/Val/DATA/DATA_121.nrrd'),\n",
       " PosixPath('/home/ricardo/ABUS2023_documents/tdsc_abus23/data/challange_2023/Val/DATA/DATA_122.nrrd'),\n",
       " PosixPath('/home/ricardo/ABUS2023_documents/tdsc_abus23/data/challange_2023/Val/DATA/DATA_123.nrrd'),\n",
       " PosixPath('/home/ricardo/ABUS2023_documents/tdsc_abus23/data/challange_2023/Val/DATA/DATA_124.nrrd'),\n",
       " PosixPath('/home/ricardo/ABUS2023_documents/tdsc_abus23/data/challange_2023/Val/DATA/DATA_125.nrrd'),\n",
       " PosixPath('/home/ricardo/ABUS2023_documents/tdsc_abus23/data/challange_2023/Val/DATA/DATA_126.nrrd'),\n",
       " PosixPath('/home/ricardo/ABUS2023_documents/tdsc_abus23/data/challange_2023/Val/DATA/DATA_127.nrrd'),\n",
       " PosixPath('/home/ricardo/ABUS2023_documents/tdsc_abus23/data/challange_2023/Val/DATA/DATA_128.nrrd'),\n",
       " PosixPath('/home/ricardo/ABUS2023_documents/tdsc_abus23/data/challange_2023/Val/DATA/DATA_129.nrrd')]"
      ]
     },
     "execution_count": 5,
     "metadata": {},
     "output_type": "execute_result"
    }
   ],
   "source": [
    "folder = repo_path / 'data/challange_2023/Val/DATA'\n",
    "image_paths = list(folder.glob(\"*\"))\n",
    "# order by name\n",
    "image_paths.sort()\n",
    "image_paths"
   ]
  },
  {
   "cell_type": "code",
   "execution_count": 2,
   "metadata": {},
   "outputs": [],
   "source": [
    "import SimpleITK as sitk\n",
    "import numpy as np\n",
    "import pandas as pd\n",
    "from tqdm import tqdm"
   ]
  },
  {
   "cell_type": "code",
   "execution_count": 14,
   "metadata": {},
   "outputs": [],
   "source": [
    "def get_center_length(mask):\n",
    "\n",
    "    # Get the non-zero indices\n",
    "    non_zero_indices = np.nonzero(mask)\n",
    "\n",
    "    min_z = np.min(non_zero_indices[2])\n",
    "    min_y = np.min(non_zero_indices[1])\n",
    "    min_x = np.min(non_zero_indices[0])\n",
    "    max_z = np.max(non_zero_indices[2])\n",
    "    max_y = np.max(non_zero_indices[1])\n",
    "    max_x = np.max(non_zero_indices[0])\n",
    "\n",
    "    # Get the center of the lesion\n",
    "    center_z = (min_z + max_z) / 2\n",
    "    center_y = (min_y + max_y) / 2\n",
    "    center_x = (min_x + max_x) / 2\n",
    "\n",
    "    center = [center_x, center_y, center_z]\n",
    "\n",
    "    # Get the length of the lesion\n",
    "    length_z = max_z - min_z\n",
    "    length_y = max_y - min_y\n",
    "    length_x = max_x - min_x\n",
    "\n",
    "    length = [length_x, length_y, length_z]\n",
    "\n",
    "    return center, length"
   ]
  },
  {
   "cell_type": "code",
   "execution_count": 30,
   "metadata": {},
   "outputs": [
    {
     "data": {
      "text/html": [
       "<div>\n",
       "<style scoped>\n",
       "    .dataframe tbody tr th:only-of-type {\n",
       "        vertical-align: middle;\n",
       "    }\n",
       "\n",
       "    .dataframe tbody tr th {\n",
       "        vertical-align: top;\n",
       "    }\n",
       "\n",
       "    .dataframe thead th {\n",
       "        text-align: right;\n",
       "    }\n",
       "</style>\n",
       "<table border=\"1\" class=\"dataframe\">\n",
       "  <thead>\n",
       "    <tr style=\"text-align: right;\">\n",
       "      <th></th>\n",
       "      <th>public_id</th>\n",
       "      <th>coordX</th>\n",
       "      <th>coordY</th>\n",
       "      <th>coordZ</th>\n",
       "      <th>x_length</th>\n",
       "      <th>y_length</th>\n",
       "      <th>z_length</th>\n",
       "      <th>probability</th>\n",
       "    </tr>\n",
       "  </thead>\n",
       "  <tbody>\n",
       "    <tr>\n",
       "      <th>0</th>\n",
       "      <td>100</td>\n",
       "      <td>201.0</td>\n",
       "      <td>243.0</td>\n",
       "      <td>323.0</td>\n",
       "      <td>40</td>\n",
       "      <td>360</td>\n",
       "      <td>276</td>\n",
       "      <td>0.968262</td>\n",
       "    </tr>\n",
       "  </tbody>\n",
       "</table>\n",
       "</div>"
      ],
      "text/plain": [
       "  public_id  coordX  coordY  coordZ  x_length  y_length  z_length  probability\n",
       "0       100   201.0   243.0   323.0        40       360       276     0.968262"
      ]
     },
     "execution_count": 30,
     "metadata": {},
     "output_type": "execute_result"
    }
   ],
   "source": [
    "file = repo_path / 'predict/Segmentation/MASK_100.nrrd'\n",
    "\n",
    "# read the image\n",
    "mask = sitk.ReadImage(str(file))\n",
    "mask = sitk.GetArrayFromImage(mask)\n",
    "\n",
    "# get the center and length of the lesion\n",
    "center, length = get_center_length(mask)\n",
    "\n",
    "# compute mean of probabilities inside the lesion\n",
    "probs_path = repo_path / 'cached_data/probs/prob_map.npy'\n",
    "probs = np.load(probs_path)\n",
    "\n",
    "inner_probs = probs[mask==1]\n",
    "mean_inner_probs = np.mean(inner_probs)\n",
    "\n",
    "dataframe = pd.DataFrame(columns=['public_id', 'coordX', 'coordY', 'coordZ', 'x_length', 'y_length', 'z_length', 'probability'])\n",
    "dataframe.loc[0] = [file.stem.split('_')[1], center[0], center[1], center[2], length[0], length[1], length[2], mean_inner_probs]\n",
    "# append to the main dataframe\n",
    "# main_dataframe = pd.concat([main_dataframe, dataframe], ignore_index=True)\n",
    "\n",
    "dataframe"
   ]
  }
 ],
 "metadata": {
  "kernelspec": {
   "display_name": "abus_h",
   "language": "python",
   "name": "python3"
  },
  "language_info": {
   "codemirror_mode": {
    "name": "ipython",
    "version": 3
   },
   "file_extension": ".py",
   "mimetype": "text/x-python",
   "name": "python",
   "nbconvert_exporter": "python",
   "pygments_lexer": "ipython3",
   "version": "3.10.11"
  },
  "orig_nbformat": 4
 },
 "nbformat": 4,
 "nbformat_minor": 2
}

{
 "cells": [
  {
   "cell_type": "code",
   "execution_count": 8,
   "metadata": {},
   "outputs": [],
   "source": [
    "from pathlib import Path\n",
    "repo_path = Path('/home/ricardo/ABUS2023_documents/tdsc_abus23')"
   ]
  },
  {
   "cell_type": "code",
   "execution_count": 11,
   "metadata": {},
   "outputs": [],
   "source": [
    "import numpy as np\n",
    "import SimpleITK as sitk\n",
    "import pandas as pd\n",
    "from torchvision.transforms import (\n",
    "    Compose,\n",
    "    Resize,\n",
    "    InterpolationMode,\n",
    ")\n",
    "from PIL import Image\n",
    "from tqdm import tqdm"
   ]
  },
  {
   "cell_type": "code",
   "execution_count": 12,
   "metadata": {},
   "outputs": [
    {
     "name": "stderr",
     "output_type": "stream",
     "text": [
      "100%|██████████| 30/30 [00:39<00:00,  1.31s/it]\n"
     ]
    }
   ],
   "source": [
    "# Expansion HP\n",
    "x_expansion = 865\n",
    "y_expansion = 865\n",
    "x_resizing = 512\n",
    "y_resizing = 512\n",
    "file_format = 'mha'\n",
    "folder_name = f'full-slice_{x_resizing}x{y_resizing}_all'\n",
    "data_directory = repo_path / 'data/challange_2023' / 'Test'\n",
    "data_directory.mkdir(exist_ok=True, parents=True)\n",
    "\n",
    "# transforms\n",
    "preprocess_im = Compose(\n",
    "        [\n",
    "            Resize((x_resizing, y_resizing), interpolation= InterpolationMode.BILINEAR),\n",
    "        ]\n",
    ")\n",
    "\n",
    "# new images and labels\n",
    "save_dir = data_directory / folder_name\n",
    "save_dir.mkdir(exist_ok=True)\n",
    "im_dir = save_dir / f'image_{file_format}'\n",
    "im_dir.mkdir(exist_ok=True)\n",
    "\n",
    "### create metadata\n",
    "# raw data path\n",
    "raw_data = repo_path / 'input'\n",
    "files = [f for f in raw_data.glob('**/*') if f.suffix == '.nrrd']\n",
    "iter = tqdm(files, total=len(files))\n",
    "metadata = pd.DataFrame(columns=['case_id', 'data_path', 'shape'])\n",
    "\n",
    "for i, im_path in enumerate(iter):\n",
    "    # get 3D image\n",
    "    im_sitk = sitk.ReadImage(im_path)\n",
    "    # store metadata\n",
    "    metadata.loc[i, 'case_id'] = im_path.stem.split('_')[-1]\n",
    "    metadata.loc[i, 'data_path'] = 'DATA/'+im_path.name\n",
    "    metadata.loc[i, 'shape'] = im_sitk.GetSize()\n",
    "# save metadata\n",
    "metadata = metadata.sort_values(by=['case_id'])\n",
    "metadata.to_csv(data_directory / 'metadata.csv', index=False)"
   ]
  },
  {
   "cell_type": "code",
   "execution_count": null,
   "metadata": {},
   "outputs": [],
   "source": []
  }
 ],
 "metadata": {
  "kernelspec": {
   "display_name": "abus_h",
   "language": "python",
   "name": "python3"
  },
  "language_info": {
   "codemirror_mode": {
    "name": "ipython",
    "version": 3
   },
   "file_extension": ".py",
   "mimetype": "text/x-python",
   "name": "python",
   "nbconvert_exporter": "python",
   "pygments_lexer": "ipython3",
   "version": "3.10.11"
  },
  "orig_nbformat": 4
 },
 "nbformat": 4,
 "nbformat_minor": 2
}

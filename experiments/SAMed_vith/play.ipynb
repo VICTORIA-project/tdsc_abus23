{
 "cells": [
  {
   "cell_type": "code",
   "execution_count": 11,
   "metadata": {},
   "outputs": [],
   "source": [
    "from pathlib import Path\n",
    "import os, sys\n",
    "repo_path= Path.cwd().resolve()\n",
    "while '.gitignore' not in os.listdir(repo_path): # while not in the root of the repo\n",
    "    repo_path = repo_path.parent #go up one level\n",
    "sys.path.insert(0,str(repo_path)) if str(repo_path) not in sys.path else None\n",
    "\n",
    "import os\n",
    "os.environ[\"CUDA_DEVICE_ORDER\"]=\"PCI_BUS_ID\"\n",
    "os.environ[\"CUDA_VISIBLE_DEVICES\"]=\"1\"\n",
    "device = 0 # for dice special\n",
    "\n",
    "# Libraries\n",
    "from sklearn.model_selection import KFold\n",
    "import numpy as np\n",
    "import argparse\n",
    "import yaml\n",
    "\n",
    "# accelerate\n",
    "from accelerate.utils import ProjectConfiguration, set_seed\n",
    "from accelerate import Accelerator\n",
    "from accelerate.logging import get_logger\n",
    "\n",
    "import torch\n",
    "from torch.utils.data import DataLoader\n",
    "import torch.optim as optim\n",
    "from torch.nn.modules.loss import CrossEntropyLoss\n",
    "import logging\n",
    "from tqdm import tqdm\n",
    "from importlib import import_module\n",
    "import wandb\n",
    "from sklearn.metrics import jaccard_score\n",
    "\n",
    "from monai.transforms import (\n",
    "    Compose,\n",
    "    RandFlipd,\n",
    "    RandRotated,\n",
    "    RandZoomd,\n",
    "    ScaleIntensityd,\n",
    "    EnsureTyped,\n",
    "    EnsureChannelFirstd,\n",
    "    Resized,\n",
    "    RandGaussianNoised,\n",
    "    RandGaussianSmoothd,\n",
    "    Rand2DElasticd,\n",
    "    RandAffined,\n",
    "    OneOf,\n",
    ")\n",
    "\n",
    "# extra imports\n",
    "from datasets_utils.datasets import ABUS_dataset\n",
    "sys.path.append(str(repo_path / 'SAMed'))\n",
    "from SAMed.SAMed_h.segment_anything import sam_model_registry\n",
    "from SAMed.utils import DiceLoss #, Focal_loss"
   ]
  },
  {
   "cell_type": "code",
   "execution_count": 12,
   "metadata": {},
   "outputs": [],
   "source": [
    "# get SAM model\n",
    "sam, _ = sam_model_registry['vit_h'](image_size=512,\n",
    "                                    num_classes=2,\n",
    "                                    checkpoint=str(repo_path /'checkpoints/sam_vit_h_4b8939.pth'),\n",
    "                                    pixel_mean=[0, 0, 0],\n",
    "                                    pixel_std=[1, 1, 1])\n",
    "# # load lora model\n",
    "# pkg = import_module('sam_lora_image_encoder')\n",
    "# net = pkg.LoRA_Sam(sam, 4) # lora rank is 4"
   ]
  }
 ],
 "metadata": {
  "kernelspec": {
   "display_name": "abus_1",
   "language": "python",
   "name": "python3"
  },
  "language_info": {
   "codemirror_mode": {
    "name": "ipython",
    "version": 3
   },
   "file_extension": ".py",
   "mimetype": "text/x-python",
   "name": "python",
   "nbconvert_exporter": "python",
   "pygments_lexer": "ipython3",
   "version": "3.10.11"
  },
  "orig_nbformat": 4
 },
 "nbformat": 4,
 "nbformat_minor": 2
}

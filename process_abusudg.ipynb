{
 "cells": [
  {
   "attachments": {},
   "cell_type": "markdown",
   "metadata": {},
   "source": [
    "## Process ABUS UDG"
   ]
  },
  {
   "attachments": {},
   "cell_type": "markdown",
   "metadata": {},
   "source": [
    "Imports"
   ]
  },
  {
   "cell_type": "code",
   "execution_count": 1,
   "metadata": {},
   "outputs": [],
   "source": [
    "import SimpleITK as sitk\n",
    "import pandas as pd\n",
    "from typing import Tuple, Dict, Any\n",
    "from tqdm import tqdm\n",
    "import numpy as np\n",
    "import cv2\n",
    "import os"
   ]
  },
  {
   "attachments": {},
   "cell_type": "markdown",
   "metadata": {},
   "source": [
    "Basic parameters"
   ]
  },
  {
   "cell_type": "code",
   "execution_count": 2,
   "metadata": {},
   "outputs": [],
   "source": [
    "dataset_path = \"datasets/ABUS_LesionSegmentation\"\n",
    "image_folder = \"ImageData\"\n",
    "label_folder = \"Anotation\"\n",
    "\n",
    "dataset_name = \"abusudg_25\"\n",
    "\n",
    "output_folder = f\"datasets/{dataset_name}_png\"\n",
    "slice_min_lesion_px = 25\n",
    "\n",
    "use_classes = False  #If false, only one class is used (0)\n",
    "val_frac = 0.2 # Validation fraction of the data"
   ]
  },
  {
   "attachments": {},
   "cell_type": "markdown",
   "metadata": {},
   "source": [
    "Load dataset info"
   ]
  },
  {
   "cell_type": "code",
   "execution_count": 4,
   "metadata": {},
   "outputs": [],
   "source": [
    "def LoadAbusUDG(dataset_path, image_folder, label_folder):\n",
    "    # Load dataset\n",
    "    dataset_list = []\n",
    "    annotations_items = os.listdir(os.path.join(dataset_path, label_folder))\n",
    "    for item in os.listdir(os.path.join(dataset_path, image_folder)):\n",
    "        case_id = item[:-4]\n",
    "        view = item[-6:-4]\n",
    "        data_path = os.path.join(image_folder, item)\n",
    "        mask_filename = item + '_0.dcm' #Notice that there is more than 1 for some\n",
    "        if mask_filename not in annotations_items: \n",
    "            #print(f\"File {mask_filename} does not exists!\")\n",
    "            continue\n",
    "        mask_path = os.path.join(label_folder, mask_filename)\n",
    "        dataset_list.append({\n",
    "            \"case_id\": case_id,\n",
    "            \"view\": view,\n",
    "            \"data_path\": data_path,\n",
    "            \"mask_path\": mask_path\n",
    "        })\n",
    "    dataset = pd.DataFrame(dataset_list)\n",
    "        \n",
    "    print(\"Dataset columns:\", dataset.columns)\n",
    "    return dataset\n"
   ]
  },
  {
   "cell_type": "code",
   "execution_count": 6,
   "metadata": {},
   "outputs": [
    {
     "name": "stdout",
     "output_type": "stream",
     "text": [
      "Dataset columns: Index(['case_id', 'view', 'data_path', 'mask_path'], dtype='object')\n",
      "No classes found!\n"
     ]
    }
   ],
   "source": [
    "# Load dataset\n",
    "dataset = LoadAbusUDG(dataset_path, image_folder, label_folder)\n",
    "\n",
    "\n",
    "# Get class index\n",
    "if 'label' in dataset.columns:\n",
    "    classes = dataset['label'].unique().tolist()\n",
    "    print(\"Dataset classes:\", classes)\n",
    "else:\n",
    "    print(\"No classes found!\")\n",
    "    classes = []"
   ]
  },
  {
   "attachments": {},
   "cell_type": "markdown",
   "metadata": {},
   "source": [
    "Define function for reading NRRD files"
   ]
  },
  {
   "cell_type": "code",
   "execution_count": 7,
   "metadata": {},
   "outputs": [],
   "source": [
    "def ReadDCM(filename: str) -> Tuple[sitk.Image, Dict[str, Any]]:\n",
    "    reader = sitk.ImageFileReader()\n",
    "    reader.SetFileName(filename)\n",
    "    reader.LoadPrivateTagsOn()\n",
    "    reader.ReadImageInformation()\n",
    "\n",
    "    image = reader.Execute()\n",
    "    metadata = {}\n",
    "    for key in reader.GetMetaDataKeys():\n",
    "        if reader.HasMetaDataKey(key):\n",
    "            metadata[key] = reader.GetMetaData(key)     \n",
    "            \n",
    "    return image, metadata"
   ]
  },
  {
   "attachments": {},
   "cell_type": "markdown",
   "metadata": {},
   "source": [
    "Define function for 8-bits normalization"
   ]
  },
  {
   "cell_type": "code",
   "execution_count": 8,
   "metadata": {},
   "outputs": [],
   "source": [
    "def normalize_8bits(image: np.ndarray):\n",
    "    return (255.0 *(image - image.min()) / (image.max() - image.min())).astype(np.uint8)"
   ]
  },
  {
   "attachments": {},
   "cell_type": "markdown",
   "metadata": {},
   "source": [
    "### Create 8-bit slices and masks"
   ]
  },
  {
   "cell_type": "markdown",
   "metadata": {},
   "source": []
  },
  {
   "cell_type": "code",
   "execution_count": 9,
   "metadata": {},
   "outputs": [],
   "source": [
    "images_folder = os.path.join(output_folder, \"images\")\n",
    "masks_folder = os.path.join(output_folder, \"masks\")"
   ]
  },
  {
   "cell_type": "code",
   "execution_count": 10,
   "metadata": {},
   "outputs": [
    {
     "name": "stderr",
     "output_type": "stream",
     "text": [
      "100%|██████████| 75/75 [06:43<00:00,  5.38s/it]\n"
     ]
    }
   ],
   "source": [
    "os.makedirs(masks_folder, exist_ok=True)\n",
    "os.makedirs(images_folder, exist_ok=True)\n",
    "\n",
    "\n",
    "# Create slice from data\n",
    "for _, row in tqdm(dataset.iterrows(), total=len(dataset)):\n",
    "    \n",
    "    # Load data and GT\n",
    "    id = row.case_id\n",
    "    data, metadata = ReadDCM(os.path.join(dataset_path, row.data_path.replace('\\\\','/')))\n",
    "    mask, _ = ReadDCM(os.path.join(dataset_path, row.mask_path.replace('\\\\','/')))\n",
    "    \n",
    "    # Check image and mask size and get numpy arrays\n",
    "    assert data.GetSize() == mask.GetSize()\n",
    "    data_array = sitk.GetArrayFromImage(data)\n",
    "    mask_array = sitk.GetArrayFromImage(mask)\n",
    "    image_size = data_array.shape[2], data_array.shape[1]\n",
    "    \n",
    "\n",
    "    # Chech the labels\n",
    "    if len(classes) > 0:\n",
    "        label = row.label\n",
    "        assert label in classes\n",
    "    else:\n",
    "        label = 0\n",
    "    \n",
    "    # For each slice\n",
    "    for idx in range(len(data_array)): #first dimension is z in numpy (z,y,x)\n",
    "        data_slice = data_array[idx, ...]\n",
    "        mask_slice = mask_array[idx, ...]\n",
    "         \n",
    "        # Use only slices with mask data\n",
    "        if np.sum(mask_slice) == 0:\n",
    "            continue\n",
    "        \n",
    "        # Binarize mask_Slice\n",
    "        mask_slice = (mask_slice > 0)\n",
    "        if np.sum(mask_slice) < slice_min_lesion_px:\n",
    "            continue\n",
    "        \n",
    "        mask_slice = mask_slice.astype(np.uint8) * 255\n",
    "        \n",
    "        # Normalize to 8-bits\n",
    "        data_slice = normalize_8bits(data_slice)\n",
    "        \n",
    "        \n",
    "        contours, _ = cv2.findContours(mask_slice, cv2.RETR_EXTERNAL, cv2.CHAIN_APPROX_SIMPLE)\n",
    "        contours_list = [contour.squeeze().tolist() for contour in contours]\n",
    "        \n",
    "        image_name = f\"{id:0>3}_{idx+1:0>3}\"\n",
    "        \n",
    "        # Save image\n",
    "        image_out = os.path.join(images_folder, f\"{image_name}_{label}.png\")\n",
    "        cv2.imwrite(image_out, data_slice)\n",
    "    \n",
    "        # Save mask\n",
    "        image_out = os.path.join(masks_folder, f\"{image_name}_{label}.png\")\n",
    "        cv2.imwrite(image_out,  mask_slice)\n"
   ]
  },
  {
   "attachments": {},
   "cell_type": "markdown",
   "metadata": {},
   "source": [
    "### Create YOLO data\n",
    "\n",
    "Format YOLOv8 segement:\n",
    "- https://docs.ultralytics.com/datasets/segment/\n",
    "- `<class-index> <x1> <y1> <x2> <y2> ... <xn> <yn>`\n",
    "- Others: https://docs.ultralytics.com/yolov5/tutorials/train_custom_data/#13-prepare-dataset-for-yolov5\n",
    "\n",
    "Format YOLOv8 detect:\n",
    "- https://docs.ultralytics.com/datasets/detect/\n",
    "- `<object-class> <x> <y> <width> <height>`"
   ]
  },
  {
   "cell_type": "code",
   "execution_count": 11,
   "metadata": {},
   "outputs": [],
   "source": [
    "segmentation_data_path = os.path.join(output_folder, f\"yolo_seg_data\")\n",
    "detection_data_path = os.path.join(output_folder, f\"yolo_det_data\")"
   ]
  },
  {
   "cell_type": "code",
   "execution_count": 12,
   "metadata": {},
   "outputs": [
    {
     "name": "stdout",
     "output_type": "stream",
     "text": [
      "Classes are not used\n"
     ]
    },
    {
     "name": "stderr",
     "output_type": "stream",
     "text": [
      "  1%|          | 14/1766 [00:00<00:12, 135.05it/s]"
     ]
    },
    {
     "name": "stdout",
     "output_type": "stream",
     "text": [
      "More than 1 coutour found for image t0200181801al_169_0.png\n",
      "More than 1 coutour found for image t0200181401ll_138_0.png\n",
      "More than 1 coutour found for image t0200179801mr_271_0.png\n",
      "More than 1 coutour found for image t0200192701lr_229_0.png\n",
      "More than 1 coutour found for image t0680000501ll_178_0.png\n",
      "More than 1 coutour found for image t0200067801ll_145_0.png\n",
      "More than 1 coutour found for image t0200177701lr_175_0.png\n"
     ]
    },
    {
     "name": "stderr",
     "output_type": "stream",
     "text": [
      "  2%|▏         | 40/1766 [00:00<00:08, 207.10it/s]"
     ]
    },
    {
     "name": "stdout",
     "output_type": "stream",
     "text": [
      "More than 1 coutour found for image t0600010001al_111_0.png\n",
      "More than 1 coutour found for image t0200067801ll_169_0.png\n"
     ]
    },
    {
     "name": "stderr",
     "output_type": "stream",
     "text": [
      "  6%|▌         | 103/1766 [00:00<00:06, 272.11it/s]"
     ]
    },
    {
     "name": "stdout",
     "output_type": "stream",
     "text": [
      "More than 1 coutour found for image t0200177401ll_204_0.png\n",
      "More than 1 coutour found for image t0200075501ar_219_0.png\n",
      "More than 1 coutour found for image t0200179801sr_181_0.png\n",
      "More than 1 coutour found for image t0600002901ll_108_0.png\n",
      "More than 1 coutour found for image t0200183001ll_201_0.png\n",
      "More than 1 coutour found for image t0200177501ll_129_0.png\n",
      "More than 1 coutour found for image t0200177701lr_176_0.png\n"
     ]
    },
    {
     "name": "stderr",
     "output_type": "stream",
     "text": [
      " 10%|▉         | 171/1766 [00:00<00:05, 308.05it/s]"
     ]
    },
    {
     "name": "stdout",
     "output_type": "stream",
     "text": [
      "More than 1 coutour found for image t0200181801al_187_0.png\n",
      "More than 1 coutour found for image t0200072701lr_114_0.png\n",
      "More than 1 coutour found for image t0200181401al_168_0.png\n",
      "More than 1 coutour found for image t0600041801ml_116_0.png\n",
      "More than 1 coutour found for image t0600009901ar_202_0.png\n",
      "More than 1 coutour found for image t0200177401ll_197_0.png\n"
     ]
    },
    {
     "name": "stderr",
     "output_type": "stream",
     "text": [
      " 13%|█▎        | 234/1766 [00:00<00:04, 309.53it/s]"
     ]
    },
    {
     "name": "stdout",
     "output_type": "stream",
     "text": [
      "More than 1 coutour found for image t0200177501ll_128_0.png\n",
      "More than 1 coutour found for image t0200183001ll_179_0.png\n",
      "More than 1 coutour found for image t0680000301ll_058_0.png\n",
      "More than 1 coutour found for image t0200119801lr_193_0.png\n",
      "More than 1 coutour found for image t0200072701lr_058_0.png\n",
      "More than 1 coutour found for image t0200068101ll_229_0.png\n"
     ]
    },
    {
     "name": "stderr",
     "output_type": "stream",
     "text": [
      " 17%|█▋        | 307/1766 [00:01<00:04, 334.93it/s]"
     ]
    },
    {
     "name": "stdout",
     "output_type": "stream",
     "text": [
      "More than 1 coutour found for image t0200181401al_151_0.png\n",
      "More than 1 coutour found for image t0200071401ar_101_0.png\n",
      "More than 1 coutour found for image t0200072701lr_091_0.png\n",
      "More than 1 coutour found for image t0650011001sr_152_0.png\n",
      "More than 1 coutour found for image t0200177501ml_116_0.png\n",
      "More than 1 coutour found for image t0600008201al_166_0.png\n",
      "More than 1 coutour found for image t0200128301lr_078_0.png\n",
      "More than 1 coutour found for image t0200119801lr_178_0.png\n",
      "More than 1 coutour found for image t0200177501ml_094_0.png\n",
      "More than 1 coutour found for image t0200008102ar_123_0.png\n",
      "More than 1 coutour found for image t0200073701ar_111_0.png\n",
      "More than 1 coutour found for image t0200119801lr_192_0.png\n",
      "More than 1 coutour found for image t0200125801lr_216_0.png\n",
      "More than 1 coutour found for image t0200181401ll_147_0.png\n",
      "More than 1 coutour found for image t0200192101lr_205_0.png\n",
      "More than 1 coutour found for image t0200073701mr_128_0.png\n"
     ]
    },
    {
     "name": "stderr",
     "output_type": "stream",
     "text": [
      " 23%|██▎       | 414/1766 [00:01<00:03, 345.21it/s]"
     ]
    },
    {
     "name": "stdout",
     "output_type": "stream",
     "text": [
      "More than 1 coutour found for image t0650009701ml_224_0.png\n",
      "More than 1 coutour found for image t0200192701lr_203_0.png\n",
      "More than 1 coutour found for image t0200177501al_122_0.png\n",
      "More than 1 coutour found for image t0200067801ll_159_0.png\n",
      "More than 1 coutour found for image t0200071401ar_097_0.png\n",
      "More than 1 coutour found for image t0200178701ll_190_0.png\n",
      "More than 1 coutour found for image t0200192701lr_204_0.png\n",
      "More than 1 coutour found for image t0200178701ll_213_0.png\n",
      "More than 1 coutour found for image t0200181801al_171_0.png\n",
      "More than 1 coutour found for image t0200125801lr_218_0.png\n",
      "More than 1 coutour found for image t0200177501al_123_0.png\n"
     ]
    },
    {
     "name": "stderr",
     "output_type": "stream",
     "text": [
      " 28%|██▊       | 486/1766 [00:01<00:03, 350.10it/s]"
     ]
    },
    {
     "name": "stdout",
     "output_type": "stream",
     "text": [
      "More than 1 coutour found for image t0200126401ar_066_0.png\n",
      "More than 1 coutour found for image t0200125801lr_219_0.png\n",
      "More than 1 coutour found for image t0200177701lr_184_0.png\n",
      "More than 1 coutour found for image t0200069701al_163_0.png\n",
      "More than 1 coutour found for image t0200069701al_170_0.png\n",
      "More than 1 coutour found for image t0600008701al_143_0.png\n",
      "More than 1 coutour found for image t0200183001al_187_0.png\n",
      "More than 1 coutour found for image t0600007001al_188_0.png\n",
      "More than 1 coutour found for image t0600008301lr_088_0.png\n",
      "More than 1 coutour found for image t0200126401ar_063_0.png\n",
      "More than 1 coutour found for image t0200068801ll_122_0.png\n",
      "More than 1 coutour found for image t0200179801mr_282_0.png\n",
      "More than 1 coutour found for image t0650004401ar_276_0.png\n"
     ]
    },
    {
     "name": "stderr",
     "output_type": "stream",
     "text": [
      " 32%|███▏      | 564/1766 [00:01<00:03, 366.01it/s]"
     ]
    },
    {
     "name": "stdout",
     "output_type": "stream",
     "text": [
      "More than 1 coutour found for image t0200181401ll_157_0.png\n",
      "More than 1 coutour found for image t0200181401ll_141_0.png\n",
      "More than 1 coutour found for image t0200177501ll_149_0.png\n",
      "More than 1 coutour found for image t0650009701sl_180_0.png\n",
      "More than 1 coutour found for image t0200183901lr_042_0.png\n",
      "More than 1 coutour found for image t0600008701al_103_0.png\n",
      "More than 1 coutour found for image t0200183901lr_054_0.png\n",
      "More than 1 coutour found for image t0200182201lr_156_0.png\n",
      "More than 1 coutour found for image t0200192701lr_202_0.png\n"
     ]
    },
    {
     "name": "stderr",
     "output_type": "stream",
     "text": [
      " 36%|███▌      | 637/1766 [00:01<00:03, 342.70it/s]"
     ]
    },
    {
     "name": "stdout",
     "output_type": "stream",
     "text": [
      "More than 1 coutour found for image t0200071401ar_099_0.png\n",
      "More than 1 coutour found for image t0200177401al_185_0.png\n",
      "More than 1 coutour found for image t0200181801al_190_0.png\n",
      "More than 1 coutour found for image t0200183901lr_051_0.png\n",
      "More than 1 coutour found for image t0200178701ll_192_0.png\n",
      "More than 1 coutour found for image t0650004401ar_275_0.png\n",
      "More than 1 coutour found for image t0200192701lr_218_0.png\n",
      "More than 1 coutour found for image t0200177401al_179_0.png\n",
      "More than 1 coutour found for image t0200119801lr_194_0.png\n",
      "More than 1 coutour found for image t0200177701lr_185_0.png\n",
      "More than 1 coutour found for image t0200178701ll_214_0.png\n"
     ]
    },
    {
     "name": "stderr",
     "output_type": "stream",
     "text": [
      " 40%|████      | 709/1766 [00:02<00:03, 338.07it/s]"
     ]
    },
    {
     "name": "stdout",
     "output_type": "stream",
     "text": [
      "More than 1 coutour found for image t0200072701lr_115_0.png\n",
      "More than 1 coutour found for image t0200183901lr_053_0.png\n",
      "More than 1 coutour found for image t0200177701lr_167_0.png\n",
      "More than 1 coutour found for image t0200069701al_172_0.png\n",
      "More than 1 coutour found for image t0200181801al_179_0.png\n",
      "More than 1 coutour found for image t0600008301lr_087_0.png\n",
      "More than 1 coutour found for image t0600041701ar_082_0.png\n",
      "Small lesion found in image (t0600041701ar_082_0.png)\n",
      "More than 1 coutour found for image t0200067801ll_143_0.png\n"
     ]
    },
    {
     "name": "stderr",
     "output_type": "stream",
     "text": [
      " 44%|████▍     | 780/1766 [00:02<00:02, 343.62it/s]"
     ]
    },
    {
     "name": "stdout",
     "output_type": "stream",
     "text": [
      "More than 1 coutour found for image t0200074001ar_081_0.png\n",
      "More than 1 coutour found for image t0680003301lr_249_0.png\n",
      "More than 1 coutour found for image t0600008701al_101_0.png\n",
      "More than 1 coutour found for image t0200183901lr_052_0.png\n",
      "More than 1 coutour found for image t0200177701lr_187_0.png\n",
      "More than 1 coutour found for image t0600008301lr_057_0.png\n",
      "More than 1 coutour found for image t0200131001lr_177_0.png\n",
      "More than 1 coutour found for image t0600041601ar_132_0.png\n",
      "More than 1 coutour found for image t0200067801ll_172_0.png\n"
     ]
    },
    {
     "name": "stderr",
     "output_type": "stream",
     "text": [
      " 48%|████▊     | 851/1766 [00:02<00:02, 344.56it/s]"
     ]
    },
    {
     "name": "stdout",
     "output_type": "stream",
     "text": [
      "More than 1 coutour found for image t0600006601ar_092_0.png\n",
      "More than 1 coutour found for image t0200177501ll_151_0.png\n",
      "More than 1 coutour found for image t0200191001lr_117_0.png\n",
      "More than 1 coutour found for image t0650000701ll_217_0.png\n",
      "More than 1 coutour found for image t0200203101ar_205_0.png\n",
      "More than 1 coutour found for image t0200069701al_151_0.png\n",
      "More than 1 coutour found for image t0600041601mr_152_0.png\n",
      "More than 1 coutour found for image t0200128301lr_095_0.png\n",
      "More than 1 coutour found for image t0200181401ml_120_0.png\n",
      "More than 1 coutour found for image t0680003301lr_264_0.png\n",
      "More than 1 coutour found for image t0200177501al_140_0.png\n",
      "More than 1 coutour found for image t0200194101lr_194_0.png\n",
      "More than 1 coutour found for image t0200067801ll_171_0.png\n"
     ]
    },
    {
     "name": "stderr",
     "output_type": "stream",
     "text": [
      " 52%|█████▏    | 921/1766 [00:02<00:02, 337.73it/s]"
     ]
    },
    {
     "name": "stdout",
     "output_type": "stream",
     "text": [
      "More than 1 coutour found for image t0600041701ar_081_0.png\n",
      "More than 1 coutour found for image t0200119801lr_190_0.png\n",
      "More than 1 coutour found for image t0600000101ll_156_0.png\n",
      "More than 1 coutour found for image t0200177401al_167_0.png\n",
      "More than 1 coutour found for image t0200179801sr_169_0.png\n",
      "More than 1 coutour found for image t0600010001al_124_0.png\n"
     ]
    },
    {
     "name": "stderr",
     "output_type": "stream",
     "text": [
      " 56%|█████▌    | 989/1766 [00:03<00:02, 332.91it/s]"
     ]
    },
    {
     "name": "stdout",
     "output_type": "stream",
     "text": [
      "More than 1 coutour found for image t0200181401al_166_0.png\n",
      "More than 1 coutour found for image t0600010001al_084_0.png\n",
      "More than 1 coutour found for image t0600041601ar_143_0.png\n",
      "More than 1 coutour found for image t0200069701al_178_0.png\n",
      "More than 1 coutour found for image t0200192701lr_207_0.png\n",
      "More than 1 coutour found for image t0200194101lr_171_0.png\n",
      "More than 1 coutour found for image t0200181401ml_102_0.png\n",
      "More than 1 coutour found for image t0200183001al_172_0.png\n",
      "More than 1 coutour found for image t0200181401ll_139_0.png\n",
      "More than 1 coutour found for image t0200183001al_188_0.png\n"
     ]
    },
    {
     "name": "stderr",
     "output_type": "stream",
     "text": [
      " 60%|█████▉    | 1056/1766 [00:03<00:02, 327.68it/s]"
     ]
    },
    {
     "name": "stdout",
     "output_type": "stream",
     "text": [
      "More than 1 coutour found for image t0200177401al_166_0.png\n",
      "More than 1 coutour found for image t0200125801lr_201_0.png\n",
      "More than 1 coutour found for image t0600008701al_102_0.png\n",
      "More than 1 coutour found for image t0200192701lr_228_0.png\n",
      "More than 1 coutour found for image t0200068801ll_114_0.png\n",
      "More than 1 coutour found for image t0200183001ll_181_0.png\n",
      "More than 1 coutour found for image t0200170701al_081_0.png\n",
      "More than 1 coutour found for image t0200128301lr_102_0.png\n"
     ]
    },
    {
     "name": "stderr",
     "output_type": "stream",
     "text": [
      " 65%|██████▌   | 1154/1766 [00:03<00:01, 317.74it/s]"
     ]
    },
    {
     "name": "stdout",
     "output_type": "stream",
     "text": [
      "More than 1 coutour found for image t0200073701ar_088_0.png\n",
      "More than 1 coutour found for image t0200128301lr_082_0.png\n",
      "More than 1 coutour found for image t0200119801lr_179_0.png\n",
      "More than 1 coutour found for image t0200072701lr_110_0.png\n",
      "More than 1 coutour found for image t0200203101ar_219_0.png\n",
      "More than 1 coutour found for image t0680000301ll_056_0.png\n",
      "More than 1 coutour found for image t0650011001sr_153_0.png\n",
      "More than 1 coutour found for image t0600010001al_120_0.png\n",
      "More than 1 coutour found for image t0650011001sr_151_0.png\n",
      "More than 1 coutour found for image t0200177401ll_184_0.png\n",
      "More than 1 coutour found for image t0200192701lr_205_0.png\n"
     ]
    },
    {
     "name": "stderr",
     "output_type": "stream",
     "text": [
      " 67%|██████▋   | 1186/1766 [00:03<00:01, 299.84it/s]"
     ]
    },
    {
     "name": "stdout",
     "output_type": "stream",
     "text": [
      "More than 1 coutour found for image t0200177501ll_131_0.png\n",
      "More than 1 coutour found for image t0200183001al_171_0.png\n",
      "More than 1 coutour found for image t0200181401al_167_0.png\n",
      "More than 1 coutour found for image t0200008102ar_130_0.png\n",
      "More than 1 coutour found for image t0200072701lr_125_0.png\n",
      "More than 1 coutour found for image t0200181801al_168_0.png\n",
      "More than 1 coutour found for image t0200192701lr_201_0.png\n",
      "More than 1 coutour found for image t0650009701sl_171_0.png\n",
      "More than 1 coutour found for image t0680000301ll_081_0.png\n"
     ]
    },
    {
     "name": "stderr",
     "output_type": "stream",
     "text": [
      " 71%|███████   | 1246/1766 [00:03<00:01, 283.70it/s]"
     ]
    },
    {
     "name": "stdout",
     "output_type": "stream",
     "text": [
      "More than 1 coutour found for image t0200194101lr_188_0.png\n",
      "More than 1 coutour found for image t0200194101lr_192_0.png\n",
      "More than 1 coutour found for image t0680000301ll_080_0.png\n",
      "More than 1 coutour found for image t0200191001lr_102_0.png\n",
      "More than 1 coutour found for image t0200170701al_082_0.png\n",
      "More than 1 coutour found for image t0600008301lr_085_0.png\n",
      "More than 1 coutour found for image t0200182501ll_199_0.png\n",
      "More than 1 coutour found for image t0200177701lr_186_0.png\n",
      "More than 1 coutour found for image t0600009701ar_159_0.png\n"
     ]
    },
    {
     "name": "stderr",
     "output_type": "stream",
     "text": [
      " 77%|███████▋  | 1352/1766 [00:04<00:01, 324.04it/s]"
     ]
    },
    {
     "name": "stdout",
     "output_type": "stream",
     "text": [
      "More than 1 coutour found for image t0200008102ar_109_0.png\n",
      "More than 1 coutour found for image t0200178701ll_218_0.png\n",
      "More than 1 coutour found for image t0200178701ll_221_0.png\n",
      "More than 1 coutour found for image t0650009701sl_178_0.png\n",
      "More than 1 coutour found for image t0200177701lr_166_0.png\n",
      "More than 1 coutour found for image t0600008201al_176_0.png\n",
      "More than 1 coutour found for image t0200177501ll_150_0.png\n",
      "More than 1 coutour found for image t0200069701al_173_0.png\n"
     ]
    },
    {
     "name": "stderr",
     "output_type": "stream",
     "text": [
      " 80%|████████  | 1417/1766 [00:04<00:01, 305.23it/s]"
     ]
    },
    {
     "name": "stdout",
     "output_type": "stream",
     "text": [
      "More than 1 coutour found for image t0200211801al_174_0.png\n",
      "More than 1 coutour found for image t0200181801al_170_0.png\n",
      "More than 1 coutour found for image t0200183901lr_055_0.png\n",
      "More than 1 coutour found for image t0200183001ll_187_0.png\n",
      "More than 1 coutour found for image t0600009701ar_177_0.png\n",
      "More than 1 coutour found for image t0200128301lr_112_0.png\n",
      "More than 1 coutour found for image t0650011001sr_168_0.png\n",
      "More than 1 coutour found for image t0200125801lr_203_0.png\n",
      "More than 1 coutour found for image t0650011001sr_150_0.png\n",
      "More than 1 coutour found for image t0200181401ll_156_0.png\n",
      "More than 1 coutour found for image t0600041601mr_150_0.png\n"
     ]
    },
    {
     "name": "stderr",
     "output_type": "stream",
     "text": [
      " 84%|████████▍ | 1480/1766 [00:04<00:00, 300.85it/s]"
     ]
    },
    {
     "name": "stdout",
     "output_type": "stream",
     "text": [
      "More than 1 coutour found for image t0600003401ml_029_0.png\n",
      "More than 1 coutour found for image t0680003301lr_263_0.png\n",
      "More than 1 coutour found for image t0200181401ml_108_0.png\n",
      "More than 1 coutour found for image t0200067801ll_146_0.png\n",
      "More than 1 coutour found for image t0200128301lr_099_0.png\n",
      "More than 1 coutour found for image t0200128501ll_164_0.png\n",
      "More than 1 coutour found for image t0200181401al_152_0.png\n",
      "More than 1 coutour found for image t0200069701al_148_0.png\n",
      "More than 1 coutour found for image t0600010001al_087_0.png\n",
      "More than 1 coutour found for image t0200128301lr_106_0.png\n"
     ]
    },
    {
     "name": "stderr",
     "output_type": "stream",
     "text": [
      " 87%|████████▋ | 1541/1766 [00:04<00:00, 294.29it/s]"
     ]
    },
    {
     "name": "stdout",
     "output_type": "stream",
     "text": [
      "More than 1 coutour found for image t0200177701lr_177_0.png\n",
      "More than 1 coutour found for image t0200181401ml_122_0.png\n",
      "More than 1 coutour found for image t0200067801ll_144_0.png\n",
      "More than 1 coutour found for image t0200181401al_169_0.png\n",
      "More than 1 coutour found for image t0600007501al_202_0.png\n"
     ]
    },
    {
     "name": "stderr",
     "output_type": "stream",
     "text": [
      " 91%|█████████ | 1604/1766 [00:05<00:00, 301.62it/s]"
     ]
    },
    {
     "name": "stdout",
     "output_type": "stream",
     "text": [
      "More than 1 coutour found for image t0200119801lr_180_0.png\n",
      "More than 1 coutour found for image t0600008201al_177_0.png\n",
      "More than 1 coutour found for image t0200069701al_166_0.png\n",
      "More than 1 coutour found for image t0200203101lr_209_0.png\n",
      "More than 1 coutour found for image t0200179801sr_179_0.png\n",
      "More than 1 coutour found for image t0600008201al_178_0.png\n",
      "More than 1 coutour found for image t0200125801lr_217_0.png\n",
      "More than 1 coutour found for image t0200181801al_167_0.png\n",
      "More than 1 coutour found for image t0650009701ml_223_0.png\n",
      "More than 1 coutour found for image t0200181401ml_105_0.png\n"
     ]
    },
    {
     "name": "stderr",
     "output_type": "stream",
     "text": [
      " 95%|█████████▍| 1669/1766 [00:05<00:00, 300.63it/s]"
     ]
    },
    {
     "name": "stdout",
     "output_type": "stream",
     "text": [
      "More than 1 coutour found for image t0200203101lr_188_0.png\n",
      "More than 1 coutour found for image t0200191001lr_114_0.png\n",
      "More than 1 coutour found for image t0200177701lr_168_0.png\n",
      "More than 1 coutour found for image t0200181401ll_158_0.png\n",
      "More than 1 coutour found for image t0200128301lr_113_0.png\n",
      "More than 1 coutour found for image t0200008102ar_108_0.png\n",
      "More than 1 coutour found for image t0680003301lr_246_0.png\n",
      "More than 1 coutour found for image t0200183001ll_188_0.png\n",
      "More than 1 coutour found for image t0600000101ll_157_0.png\n",
      "More than 1 coutour found for image t0600003401ml_030_0.png\n",
      "More than 1 coutour found for image t0200191001lr_101_0.png\n",
      "More than 1 coutour found for image t0200177501ml_115_0.png\n",
      "More than 1 coutour found for image t0600007001al_196_0.png\n"
     ]
    },
    {
     "name": "stderr",
     "output_type": "stream",
     "text": [
      " 98%|█████████▊| 1739/1766 [00:05<00:00, 322.50it/s]"
     ]
    },
    {
     "name": "stdout",
     "output_type": "stream",
     "text": [
      "More than 1 coutour found for image t0200177501al_141_0.png\n",
      "More than 1 coutour found for image t0200183001ll_202_0.png\n",
      "More than 1 coutour found for image t0200131401ll_264_0.png\n",
      "More than 1 coutour found for image t0650009701sl_172_0.png\n",
      "More than 1 coutour found for image t0200192101lr_206_0.png\n",
      "More than 1 coutour found for image t0200178701ll_193_0.png\n",
      "More than 1 coutour found for image t0200179801mr_269_0.png\n",
      "More than 1 coutour found for image t0600008301lr_089_0.png\n",
      "More than 1 coutour found for image t0200125801lr_202_0.png\n",
      "More than 1 coutour found for image t0600001101al_209_0.png\n",
      "More than 1 coutour found for image t0600009901ar_187_0.png\n",
      "More than 1 coutour found for image t0600008701al_125_0.png\n"
     ]
    },
    {
     "name": "stderr",
     "output_type": "stream",
     "text": [
      "100%|██████████| 1766/1766 [00:05<00:00, 318.63it/s]"
     ]
    },
    {
     "name": "stdout",
     "output_type": "stream",
     "text": [
      "More than 1 coutour found for image t0200128301lr_103_0.png\n",
      "More than 1 coutour found for image t0200178701ll_216_0.png\n",
      "More than 1 coutour found for image t0200177401al_174_0.png\n",
      "More than 1 coutour found for image t0200177401al_168_0.png\n"
     ]
    },
    {
     "name": "stderr",
     "output_type": "stream",
     "text": [
      "\n"
     ]
    }
   ],
   "source": [
    "import shutil\n",
    "\n",
    "# Create folders\n",
    "os.makedirs(segmentation_data_path, exist_ok=True)\n",
    "os.makedirs(detection_data_path, exist_ok=True)\n",
    "        \n",
    "# List of image cases\n",
    "list_cases = os.listdir(images_folder)\n",
    "\n",
    "# Get classes\n",
    "if not use_classes or any(len(item.split('_')) != 3 for item in list_cases):\n",
    "    use_classes = False\n",
    "    print(\"Classes are not used\")\n",
    "else:\n",
    "    classes = sorted(set([ item[:-4].split('_')[-1] for item in list_cases]))\n",
    "    print(classes)\n",
    "    \n",
    "# For each image\n",
    "for image in tqdm(list_cases):\n",
    "    \n",
    "    # Check image name format\n",
    "    assert len(image[:-4].split(\"_\")) == 3\n",
    "    \n",
    "    # Get class label\n",
    "    if use_classes:\n",
    "        label = image[:-4].split(\"_\")[-1]\n",
    "        label_index = classes.index(label)\n",
    "    else:\n",
    "        label_index = 0\n",
    "    \n",
    "    # Read mask\n",
    "    mask = cv2.imread(os.path.join(masks_folder, image), cv2.IMREAD_GRAYSCALE)\n",
    "    mask_size = mask.shape[1], mask.shape[0]\n",
    "    \n",
    "    # Get contours\n",
    "    contours, _ = cv2.findContours(mask, cv2.RETR_EXTERNAL, cv2.CHAIN_APPROX_SIMPLE)\n",
    "    contours_list = [contour.squeeze().tolist() for contour in contours]\n",
    "    \n",
    "    if len(contours_list) > 1:\n",
    "        print(f\"More than 1 coutour found for image {image}\")\n",
    "\n",
    "    # Copy image files\n",
    "    shutil.copyfile(os.path.join(images_folder, image), os.path.join(detection_data_path, image))\n",
    "    shutil.copyfile(os.path.join(images_folder, image), os.path.join(segmentation_data_path, image))\n",
    "\n",
    "    # Oepn label files\n",
    "    det_fp = open(os.path.join(detection_data_path, f\"{image[:-4]}.txt\"), \"w\")\n",
    "    seg_fp = open(os.path.join(segmentation_data_path, f\"{image[:-4]}.txt\"), \"w\")\n",
    "        \n",
    "    # For each countour\n",
    "    for contour in contours_list:\n",
    "        \n",
    "        # Get lesion countour data\n",
    "        x, y = [point[0] for point in contour], [point[1] for point in contour] #TODO: use numpy\n",
    "        x1, x2, y1, y2 = min(x), max(x), min(y), max(y)\n",
    "        center_x, center_y = (x1+x2)/(2*mask_size[0]), (y1+y2)/(2*mask_size[1])\n",
    "        width, height = (x2-x1)/mask_size[0], (y2-y1)/mask_size[1]\n",
    "        \n",
    "        # Check lesion size\n",
    "        if width < 0.001 or height < 0.001:\n",
    "            print(f\"Small lesion found in image ({image})\")\n",
    "            continue\n",
    "        \n",
    "        # Write labels\n",
    "        det_str = f\"{center_x:0.6f} {center_y:0.6f} {width:0.6f} {height:0.6f}\"\n",
    "        det_fp.write(f\"{label_index} {det_str}\\n\")   \n",
    "        seg_str = \" \".join([f\"{point[0]/mask_size[0]:0.6f} {point[1]/mask_size[1]:0.6f}\" for point in contour])\n",
    "        seg_fp.write(f\"{label_index} {seg_str}\\n\")\n",
    "        \n",
    "    # Close files\n",
    "    det_fp.close()\n",
    "    seg_fp.close()\n"
   ]
  },
  {
   "attachments": {},
   "cell_type": "markdown",
   "metadata": {},
   "source": [
    "### Create YOLO Train/Val split data"
   ]
  },
  {
   "cell_type": "code",
   "execution_count": 13,
   "metadata": {},
   "outputs": [
    {
     "name": "stdout",
     "output_type": "stream",
     "text": [
      "{0: 75}\n",
      "['t0200170701al', 't0200179801mr', 't0200073701ar', 't0200181401al', 't0200181401ml', 't0650001601mr', 't0600041601ar', 't0600007201sr', 't0200184502al', 't0200068101ll', 't0200177501ll', 't0600000101ll', 't0650009701ml', 't0650011001sr', 't0600007501al', 't0200192101lr', 't0200203101lr', 't0200183001ll', 't0600001101al', 't0600001501al', 't0600008301lr', 't0680003301lr', 't0600008201al', 't0200071401ar', 't0200177401al', 't0200125801lr', 't0600008701al', 't0200131401ll', 't0600009901ar', 't0200183001al', 't0680000501ll', 't0200194101lr', 't0200068801ll', 't0200182201lr', 't0200179801sr', 't0200177501ml', 't0650004401ar', 't0600003401ml', 't0600006601ar', 't0600041701ar', 't0200072701lr', 't0200211801al', 't0200075501ar', 't0600010001al', 't0200178701ll', 't0200181801al', 't0200074001ar', 't0600009701ar', 't0200183901lr', 't0650009701sl', 't0200128301lr', 't0200008102ar', 't0200067801ll', 't0200119801lr', 't0600002901ll', 't0600041601mr', 't0200128501ll', 't0600006001ll', 't0200177701lr', 't0200177401ll'] 60\n",
      "['t0650000701ll', 't0680000301ll', 't0600005901mr', 't0200177501al', 't0200192701lr', 't0200069701al', 't0200191001lr', 't0200131001lr', 't0200203101ar', 't0200182501ll', 't0200181401ll', 't0200073701mr', 't0600041801ml', 't0200126401ar', 't0600007001al'] 15\n"
     ]
    }
   ],
   "source": [
    "# Get patients list\n",
    "list_items = [item[:-4] for item in os.listdir(detection_data_path) if item.endswith(\".png\")]\n",
    "patients = list(set([ item.split(\"_\")[0] for item in list_items]))\n",
    "\n",
    "# Get lesion type per patient\n",
    "if use_classes:\n",
    "    patients_type = {}     \n",
    "    for item in list_items:\n",
    "        patient = item.split(\"_\")[0] \n",
    "        label = item.split(\"_\")[-1]\n",
    "        if label not in patients_type:\n",
    "            patients_type[label] = [patient]\n",
    "        elif patient not in patients_type[label]:\n",
    "            patients_type[label].append(patient)\n",
    "else:\n",
    "    patients_type = {0: patients}\n",
    "    \n",
    "print({k: len(v) for k, v in patients_type.items()})\n",
    "    \n",
    "# Distribute patients in Train/Val using val_frac with balanced lesion types\n",
    "train_p = []\n",
    "val_p = []\n",
    "for k in patients_type.keys():\n",
    "    num_train = int(len(patients_type[k])*(1-val_frac))\n",
    "    train_type_p, val_type_p = patients_type[k][:num_train], patients_type[k][num_train:]\n",
    "    train_p += train_type_p\n",
    "    val_p += val_type_p\n",
    "    \n",
    "print(train_p, len(train_p))\n",
    "print(val_p, len(val_p))\n",
    "    \n",
    "# Get distributed patient images for train and val\n",
    "train = [ f\"{item}.png\" for item in list_items if item.split(\"_\")[0] in train_p]\n",
    "val = [ f\"{item}.png\" for item in list_items if item.split(\"_\")[0] in val_p]\n",
    "\n",
    "import random\n",
    "random.seed(0)\n",
    "random.shuffle(train)\n",
    "random.shuffle(val)\n",
    "\n",
    "# Generate train.txt file\n",
    "train_det = os.path.join(output_folder, f\"train_det.txt\" ) \n",
    "with open(train_det, \"w\") as fp:\n",
    "    fp.writelines([os.path.join(detection_data_path, t) + '\\n' for t in train])\n",
    "    \n",
    "train_seg = os.path.join(output_folder, f\"train_seg.txt\" ) \n",
    "with open(train_seg, \"w\") as fp:\n",
    "    fp.writelines([os.path.join(segmentation_data_path, t) + '\\n' for t in train])\n",
    "    \n",
    "# Generate val.txt file\n",
    "val_det = os.path.join(output_folder, f\"val_det.txt\")\n",
    "with open(val_det, \"w\") as fp:\n",
    "    fp.writelines([os.path.join(detection_data_path, v) + '\\n' for v in val])\n",
    "    \n",
    "val_seg = os.path.join(output_folder, f\"val_seg.txt\")\n",
    "with open(val_seg, \"w\") as fp:\n",
    "    fp.writelines([os.path.join(segmentation_data_path, v) + '\\n' for v in val])\n",
    "    "
   ]
  }
 ],
 "metadata": {
  "kernelspec": {
   "display_name": "py310_1",
   "language": "python",
   "name": "python3"
  },
  "language_info": {
   "codemirror_mode": {
    "name": "ipython",
    "version": 3
   },
   "file_extension": ".py",
   "mimetype": "text/x-python",
   "name": "python",
   "nbconvert_exporter": "python",
   "pygments_lexer": "ipython3",
   "version": "3.10.6"
  },
  "orig_nbformat": 4,
  "vscode": {
   "interpreter": {
    "hash": "12f3aea31d254c34d7f2ef2d829cf85510b91fc37a99fa9bf72c9e4d79053620"
   }
  }
 },
 "nbformat": 4,
 "nbformat_minor": 2
}
